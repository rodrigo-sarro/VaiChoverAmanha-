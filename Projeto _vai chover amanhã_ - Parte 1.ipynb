{
 "cells": [
  {
   "cell_type": "markdown",
   "metadata": {},
   "source": [
    "# - Projeto \"Vai chover amanhã?\"\"\n",
    "\n"
   ]
  },
  {
   "cell_type": "code",
   "execution_count": 257,
   "metadata": {
    "ExecuteTime": {
     "end_time": "2020-12-08T15:27:09.803523Z",
     "start_time": "2020-12-08T15:27:09.767975Z"
    }
   },
   "outputs": [],
   "source": [
    "import matplotlib.pyplot as plt\n",
    "import numpy as np\n",
    "from sklearn import datasets\n",
    "import pandas as pd\n",
    "from sklearn.metrics import precision_score, recall_score, roc_auc_score, plot_roc_curve\n",
    "import warnings\n",
    "warnings.simplefilter(\"ignore\")"
   ]
  },
  {
   "cell_type": "markdown",
   "metadata": {},
   "source": [
    "## - Leitura dos dados"
   ]
  },
  {
   "cell_type": "code",
   "execution_count": 258,
   "metadata": {
    "ExecuteTime": {
     "end_time": "2020-12-08T15:27:10.785300Z",
     "start_time": "2020-12-08T15:27:09.823378Z"
    }
   },
   "outputs": [
    {
     "data": {
      "text/html": [
       "<div>\n",
       "<style scoped>\n",
       "    .dataframe tbody tr th:only-of-type {\n",
       "        vertical-align: middle;\n",
       "    }\n",
       "\n",
       "    .dataframe tbody tr th {\n",
       "        vertical-align: top;\n",
       "    }\n",
       "\n",
       "    .dataframe thead th {\n",
       "        text-align: right;\n",
       "    }\n",
       "</style>\n",
       "<table border=\"1\" class=\"dataframe\">\n",
       "  <thead>\n",
       "    <tr style=\"text-align: right;\">\n",
       "      <th></th>\n",
       "      <th>date</th>\n",
       "      <th>location</th>\n",
       "      <th>mintemp</th>\n",
       "      <th>maxtemp</th>\n",
       "      <th>rainfall</th>\n",
       "      <th>evaporation</th>\n",
       "      <th>sunshine</th>\n",
       "      <th>humidity9am</th>\n",
       "      <th>humidity3pm</th>\n",
       "      <th>pressure9am</th>\n",
       "      <th>...</th>\n",
       "      <th>temp9am</th>\n",
       "      <th>temp3pm</th>\n",
       "      <th>raintoday</th>\n",
       "      <th>amountOfRain</th>\n",
       "      <th>raintomorrow</th>\n",
       "      <th>temp</th>\n",
       "      <th>humidity</th>\n",
       "      <th>precipitation3pm</th>\n",
       "      <th>precipitation9am</th>\n",
       "      <th>modelo_vigente</th>\n",
       "    </tr>\n",
       "  </thead>\n",
       "  <tbody>\n",
       "    <tr>\n",
       "      <th>0</th>\n",
       "      <td>2008-12-01</td>\n",
       "      <td>Albury</td>\n",
       "      <td>13.4</td>\n",
       "      <td>22.9</td>\n",
       "      <td>0.6</td>\n",
       "      <td>NaN</td>\n",
       "      <td>NaN</td>\n",
       "      <td>71.0</td>\n",
       "      <td>22.0</td>\n",
       "      <td>1007.7</td>\n",
       "      <td>...</td>\n",
       "      <td>16.9</td>\n",
       "      <td>21.8</td>\n",
       "      <td>No</td>\n",
       "      <td>0.0</td>\n",
       "      <td>No</td>\n",
       "      <td>29.48</td>\n",
       "      <td>28.400000</td>\n",
       "      <td>12</td>\n",
       "      <td>5.115360</td>\n",
       "      <td>0.089825</td>\n",
       "    </tr>\n",
       "    <tr>\n",
       "      <th>1</th>\n",
       "      <td>2008-12-02</td>\n",
       "      <td>Albury</td>\n",
       "      <td>7.4</td>\n",
       "      <td>25.1</td>\n",
       "      <td>0.0</td>\n",
       "      <td>NaN</td>\n",
       "      <td>NaN</td>\n",
       "      <td>44.0</td>\n",
       "      <td>25.0</td>\n",
       "      <td>1010.6</td>\n",
       "      <td>...</td>\n",
       "      <td>17.2</td>\n",
       "      <td>24.3</td>\n",
       "      <td>No</td>\n",
       "      <td>0.0</td>\n",
       "      <td>No</td>\n",
       "      <td>32.12</td>\n",
       "      <td>2.208569</td>\n",
       "      <td>10</td>\n",
       "      <td>21.497100</td>\n",
       "      <td>0.023477</td>\n",
       "    </tr>\n",
       "    <tr>\n",
       "      <th>2</th>\n",
       "      <td>2008-12-03</td>\n",
       "      <td>Albury</td>\n",
       "      <td>12.9</td>\n",
       "      <td>25.7</td>\n",
       "      <td>0.0</td>\n",
       "      <td>NaN</td>\n",
       "      <td>NaN</td>\n",
       "      <td>38.0</td>\n",
       "      <td>30.0</td>\n",
       "      <td>1007.6</td>\n",
       "      <td>...</td>\n",
       "      <td>21.0</td>\n",
       "      <td>23.2</td>\n",
       "      <td>No</td>\n",
       "      <td>0.0</td>\n",
       "      <td>No</td>\n",
       "      <td>32.84</td>\n",
       "      <td>38.000000</td>\n",
       "      <td>17</td>\n",
       "      <td>20.782859</td>\n",
       "      <td>0.027580</td>\n",
       "    </tr>\n",
       "    <tr>\n",
       "      <th>3</th>\n",
       "      <td>2008-12-04</td>\n",
       "      <td>Albury</td>\n",
       "      <td>9.2</td>\n",
       "      <td>28.0</td>\n",
       "      <td>0.0</td>\n",
       "      <td>NaN</td>\n",
       "      <td>NaN</td>\n",
       "      <td>45.0</td>\n",
       "      <td>16.0</td>\n",
       "      <td>1017.6</td>\n",
       "      <td>...</td>\n",
       "      <td>18.1</td>\n",
       "      <td>26.5</td>\n",
       "      <td>No</td>\n",
       "      <td>1.0</td>\n",
       "      <td>No</td>\n",
       "      <td>35.60</td>\n",
       "      <td>21.200000</td>\n",
       "      <td>8</td>\n",
       "      <td>12.028646</td>\n",
       "      <td>0.023962</td>\n",
       "    </tr>\n",
       "    <tr>\n",
       "      <th>4</th>\n",
       "      <td>2008-12-05</td>\n",
       "      <td>Albury</td>\n",
       "      <td>17.5</td>\n",
       "      <td>32.3</td>\n",
       "      <td>1.0</td>\n",
       "      <td>NaN</td>\n",
       "      <td>NaN</td>\n",
       "      <td>82.0</td>\n",
       "      <td>33.0</td>\n",
       "      <td>1010.8</td>\n",
       "      <td>...</td>\n",
       "      <td>17.8</td>\n",
       "      <td>29.7</td>\n",
       "      <td>No</td>\n",
       "      <td>0.2</td>\n",
       "      <td>No</td>\n",
       "      <td>40.76</td>\n",
       "      <td>41.600000</td>\n",
       "      <td>9</td>\n",
       "      <td>11.883546</td>\n",
       "      <td>0.220164</td>\n",
       "    </tr>\n",
       "  </tbody>\n",
       "</table>\n",
       "<p>5 rows × 23 columns</p>\n",
       "</div>"
      ],
      "text/plain": [
       "         date location  mintemp  maxtemp  rainfall  evaporation  sunshine  \\\n",
       "0  2008-12-01   Albury     13.4     22.9       0.6          NaN       NaN   \n",
       "1  2008-12-02   Albury      7.4     25.1       0.0          NaN       NaN   \n",
       "2  2008-12-03   Albury     12.9     25.7       0.0          NaN       NaN   \n",
       "3  2008-12-04   Albury      9.2     28.0       0.0          NaN       NaN   \n",
       "4  2008-12-05   Albury     17.5     32.3       1.0          NaN       NaN   \n",
       "\n",
       "   humidity9am  humidity3pm  pressure9am  ...  temp9am  temp3pm  raintoday  \\\n",
       "0         71.0         22.0       1007.7  ...     16.9     21.8         No   \n",
       "1         44.0         25.0       1010.6  ...     17.2     24.3         No   \n",
       "2         38.0         30.0       1007.6  ...     21.0     23.2         No   \n",
       "3         45.0         16.0       1017.6  ...     18.1     26.5         No   \n",
       "4         82.0         33.0       1010.8  ...     17.8     29.7         No   \n",
       "\n",
       "   amountOfRain  raintomorrow   temp   humidity precipitation3pm  \\\n",
       "0           0.0            No  29.48  28.400000               12   \n",
       "1           0.0            No  32.12   2.208569               10   \n",
       "2           0.0            No  32.84  38.000000               17   \n",
       "3           1.0            No  35.60  21.200000                8   \n",
       "4           0.2            No  40.76  41.600000                9   \n",
       "\n",
       "   precipitation9am  modelo_vigente  \n",
       "0          5.115360        0.089825  \n",
       "1         21.497100        0.023477  \n",
       "2         20.782859        0.027580  \n",
       "3         12.028646        0.023962  \n",
       "4         11.883546        0.220164  \n",
       "\n",
       "[5 rows x 23 columns]"
      ]
     },
     "execution_count": 258,
     "metadata": {},
     "output_type": "execute_result"
    }
   ],
   "source": [
    "rain = pd.read_csv('data/rain_data_aus.csv')\n",
    "rain.head()"
   ]
  },
  {
   "cell_type": "code",
   "execution_count": 259,
   "metadata": {
    "ExecuteTime": {
     "end_time": "2020-12-08T15:27:10.928197Z",
     "start_time": "2020-12-08T15:27:10.799750Z"
    }
   },
   "outputs": [
    {
     "name": "stdout",
     "output_type": "stream",
     "text": [
      "<class 'pandas.core.frame.DataFrame'>\n",
      "RangeIndex: 142193 entries, 0 to 142192\n",
      "Data columns (total 23 columns):\n",
      " #   Column            Non-Null Count   Dtype  \n",
      "---  ------            --------------   -----  \n",
      " 0   date              142193 non-null  object \n",
      " 1   location          142193 non-null  object \n",
      " 2   mintemp           141556 non-null  float64\n",
      " 3   maxtemp           141871 non-null  float64\n",
      " 4   rainfall          140787 non-null  float64\n",
      " 5   evaporation       81350 non-null   float64\n",
      " 6   sunshine          74377 non-null   float64\n",
      " 7   humidity9am       140419 non-null  float64\n",
      " 8   humidity3pm       138583 non-null  float64\n",
      " 9   pressure9am       128179 non-null  float64\n",
      " 10  pressure3pm       128212 non-null  float64\n",
      " 11  cloud9am          88536 non-null   float64\n",
      " 12  cloud3pm          85099 non-null   float64\n",
      " 13  temp9am           141289 non-null  float64\n",
      " 14  temp3pm           139467 non-null  float64\n",
      " 15  raintoday         140787 non-null  object \n",
      " 16  amountOfRain      142193 non-null  float64\n",
      " 17  raintomorrow      142193 non-null  object \n",
      " 18  temp              141871 non-null  float64\n",
      " 19  humidity          138583 non-null  float64\n",
      " 20  precipitation3pm  142193 non-null  int64  \n",
      " 21  precipitation9am  142193 non-null  float64\n",
      " 22  modelo_vigente    142193 non-null  float64\n",
      "dtypes: float64(18), int64(1), object(4)\n",
      "memory usage: 25.0+ MB\n"
     ]
    }
   ],
   "source": [
    "rain.info()"
   ]
  },
  {
   "cell_type": "code",
   "execution_count": 260,
   "metadata": {
    "ExecuteTime": {
     "end_time": "2020-12-08T15:27:11.033329Z",
     "start_time": "2020-12-08T15:27:10.987065Z"
    }
   },
   "outputs": [
    {
     "data": {
      "text/plain": [
       "4.0     3282\n",
       "8.0     2574\n",
       "2.2     2057\n",
       "2.0     1996\n",
       "2.6     1975\n",
       "        ... \n",
       "42.4       1\n",
       "56.2       1\n",
       "36.8       1\n",
       "16.5       1\n",
       "44.0       1\n",
       "Name: evaporation, Length: 356, dtype: int64"
      ]
     },
     "execution_count": 260,
     "metadata": {},
     "output_type": "execute_result"
    }
   ],
   "source": [
    "rain['evaporation'].value_counts()"
   ]
  },
  {
   "cell_type": "code",
   "execution_count": 261,
   "metadata": {
    "ExecuteTime": {
     "end_time": "2020-12-08T15:27:11.119836Z",
     "start_time": "2020-12-08T15:27:11.042321Z"
    }
   },
   "outputs": [
    {
     "data": {
      "text/plain": [
       "date                    0\n",
       "location                0\n",
       "mintemp               637\n",
       "maxtemp               322\n",
       "rainfall             1406\n",
       "evaporation         60843\n",
       "sunshine            67816\n",
       "humidity9am          1774\n",
       "humidity3pm          3610\n",
       "pressure9am         14014\n",
       "pressure3pm         13981\n",
       "cloud9am            53657\n",
       "cloud3pm            57094\n",
       "temp9am               904\n",
       "temp3pm              2726\n",
       "raintoday            1406\n",
       "amountOfRain            0\n",
       "raintomorrow            0\n",
       "temp                  322\n",
       "humidity             3610\n",
       "precipitation3pm        0\n",
       "precipitation9am        0\n",
       "modelo_vigente          0\n",
       "dtype: int64"
      ]
     },
     "execution_count": 261,
     "metadata": {},
     "output_type": "execute_result"
    }
   ],
   "source": [
    "rain.isna().sum()"
   ]
  },
  {
   "cell_type": "code",
   "execution_count": 262,
   "metadata": {
    "ExecuteTime": {
     "end_time": "2020-12-08T15:27:11.327977Z",
     "start_time": "2020-12-08T15:27:11.128763Z"
    }
   },
   "outputs": [],
   "source": [
    "rain[\"raintoday\"]=rain[\"raintoday\"].replace({\"No\": 0, \"Yes\": 1})"
   ]
  },
  {
   "cell_type": "code",
   "execution_count": 263,
   "metadata": {
    "ExecuteTime": {
     "end_time": "2020-12-08T15:27:11.570472Z",
     "start_time": "2020-12-08T15:27:11.334251Z"
    }
   },
   "outputs": [],
   "source": [
    "rain[\"raintomorrow\"]=rain[\"raintomorrow\"].replace({\"No\": 0, \"Yes\": 1})"
   ]
  },
  {
   "cell_type": "code",
   "execution_count": 264,
   "metadata": {
    "ExecuteTime": {
     "end_time": "2020-12-08T15:27:11.672505Z",
     "start_time": "2020-12-08T15:27:11.578066Z"
    }
   },
   "outputs": [
    {
     "data": {
      "text/html": [
       "<div>\n",
       "<style scoped>\n",
       "    .dataframe tbody tr th:only-of-type {\n",
       "        vertical-align: middle;\n",
       "    }\n",
       "\n",
       "    .dataframe tbody tr th {\n",
       "        vertical-align: top;\n",
       "    }\n",
       "\n",
       "    .dataframe thead th {\n",
       "        text-align: right;\n",
       "    }\n",
       "</style>\n",
       "<table border=\"1\" class=\"dataframe\">\n",
       "  <thead>\n",
       "    <tr style=\"text-align: right;\">\n",
       "      <th></th>\n",
       "      <th>date</th>\n",
       "      <th>location</th>\n",
       "      <th>mintemp</th>\n",
       "      <th>maxtemp</th>\n",
       "      <th>rainfall</th>\n",
       "      <th>evaporation</th>\n",
       "      <th>sunshine</th>\n",
       "      <th>humidity9am</th>\n",
       "      <th>humidity3pm</th>\n",
       "      <th>pressure9am</th>\n",
       "      <th>...</th>\n",
       "      <th>temp9am</th>\n",
       "      <th>temp3pm</th>\n",
       "      <th>raintoday</th>\n",
       "      <th>amountOfRain</th>\n",
       "      <th>raintomorrow</th>\n",
       "      <th>temp</th>\n",
       "      <th>humidity</th>\n",
       "      <th>precipitation3pm</th>\n",
       "      <th>precipitation9am</th>\n",
       "      <th>modelo_vigente</th>\n",
       "    </tr>\n",
       "  </thead>\n",
       "  <tbody>\n",
       "    <tr>\n",
       "      <th>0</th>\n",
       "      <td>2008-12-01</td>\n",
       "      <td>Albury</td>\n",
       "      <td>13.4</td>\n",
       "      <td>22.9</td>\n",
       "      <td>0.6</td>\n",
       "      <td>NaN</td>\n",
       "      <td>NaN</td>\n",
       "      <td>71.0</td>\n",
       "      <td>22.0</td>\n",
       "      <td>1007.7</td>\n",
       "      <td>...</td>\n",
       "      <td>16.9</td>\n",
       "      <td>21.8</td>\n",
       "      <td>0.0</td>\n",
       "      <td>0.0</td>\n",
       "      <td>0</td>\n",
       "      <td>29.48</td>\n",
       "      <td>28.400000</td>\n",
       "      <td>12</td>\n",
       "      <td>5.115360</td>\n",
       "      <td>0.089825</td>\n",
       "    </tr>\n",
       "    <tr>\n",
       "      <th>1</th>\n",
       "      <td>2008-12-02</td>\n",
       "      <td>Albury</td>\n",
       "      <td>7.4</td>\n",
       "      <td>25.1</td>\n",
       "      <td>0.0</td>\n",
       "      <td>NaN</td>\n",
       "      <td>NaN</td>\n",
       "      <td>44.0</td>\n",
       "      <td>25.0</td>\n",
       "      <td>1010.6</td>\n",
       "      <td>...</td>\n",
       "      <td>17.2</td>\n",
       "      <td>24.3</td>\n",
       "      <td>0.0</td>\n",
       "      <td>0.0</td>\n",
       "      <td>0</td>\n",
       "      <td>32.12</td>\n",
       "      <td>2.208569</td>\n",
       "      <td>10</td>\n",
       "      <td>21.497100</td>\n",
       "      <td>0.023477</td>\n",
       "    </tr>\n",
       "    <tr>\n",
       "      <th>2</th>\n",
       "      <td>2008-12-03</td>\n",
       "      <td>Albury</td>\n",
       "      <td>12.9</td>\n",
       "      <td>25.7</td>\n",
       "      <td>0.0</td>\n",
       "      <td>NaN</td>\n",
       "      <td>NaN</td>\n",
       "      <td>38.0</td>\n",
       "      <td>30.0</td>\n",
       "      <td>1007.6</td>\n",
       "      <td>...</td>\n",
       "      <td>21.0</td>\n",
       "      <td>23.2</td>\n",
       "      <td>0.0</td>\n",
       "      <td>0.0</td>\n",
       "      <td>0</td>\n",
       "      <td>32.84</td>\n",
       "      <td>38.000000</td>\n",
       "      <td>17</td>\n",
       "      <td>20.782859</td>\n",
       "      <td>0.027580</td>\n",
       "    </tr>\n",
       "    <tr>\n",
       "      <th>3</th>\n",
       "      <td>2008-12-04</td>\n",
       "      <td>Albury</td>\n",
       "      <td>9.2</td>\n",
       "      <td>28.0</td>\n",
       "      <td>0.0</td>\n",
       "      <td>NaN</td>\n",
       "      <td>NaN</td>\n",
       "      <td>45.0</td>\n",
       "      <td>16.0</td>\n",
       "      <td>1017.6</td>\n",
       "      <td>...</td>\n",
       "      <td>18.1</td>\n",
       "      <td>26.5</td>\n",
       "      <td>0.0</td>\n",
       "      <td>1.0</td>\n",
       "      <td>0</td>\n",
       "      <td>35.60</td>\n",
       "      <td>21.200000</td>\n",
       "      <td>8</td>\n",
       "      <td>12.028646</td>\n",
       "      <td>0.023962</td>\n",
       "    </tr>\n",
       "    <tr>\n",
       "      <th>4</th>\n",
       "      <td>2008-12-05</td>\n",
       "      <td>Albury</td>\n",
       "      <td>17.5</td>\n",
       "      <td>32.3</td>\n",
       "      <td>1.0</td>\n",
       "      <td>NaN</td>\n",
       "      <td>NaN</td>\n",
       "      <td>82.0</td>\n",
       "      <td>33.0</td>\n",
       "      <td>1010.8</td>\n",
       "      <td>...</td>\n",
       "      <td>17.8</td>\n",
       "      <td>29.7</td>\n",
       "      <td>0.0</td>\n",
       "      <td>0.2</td>\n",
       "      <td>0</td>\n",
       "      <td>40.76</td>\n",
       "      <td>41.600000</td>\n",
       "      <td>9</td>\n",
       "      <td>11.883546</td>\n",
       "      <td>0.220164</td>\n",
       "    </tr>\n",
       "    <tr>\n",
       "      <th>5</th>\n",
       "      <td>2008-12-06</td>\n",
       "      <td>Albury</td>\n",
       "      <td>14.6</td>\n",
       "      <td>29.7</td>\n",
       "      <td>0.2</td>\n",
       "      <td>NaN</td>\n",
       "      <td>NaN</td>\n",
       "      <td>55.0</td>\n",
       "      <td>23.0</td>\n",
       "      <td>1009.2</td>\n",
       "      <td>...</td>\n",
       "      <td>20.6</td>\n",
       "      <td>28.9</td>\n",
       "      <td>0.0</td>\n",
       "      <td>0.0</td>\n",
       "      <td>0</td>\n",
       "      <td>37.64</td>\n",
       "      <td>29.600000</td>\n",
       "      <td>8</td>\n",
       "      <td>17.320994</td>\n",
       "      <td>0.056883</td>\n",
       "    </tr>\n",
       "    <tr>\n",
       "      <th>6</th>\n",
       "      <td>2008-12-07</td>\n",
       "      <td>Albury</td>\n",
       "      <td>14.3</td>\n",
       "      <td>25.0</td>\n",
       "      <td>0.0</td>\n",
       "      <td>NaN</td>\n",
       "      <td>NaN</td>\n",
       "      <td>49.0</td>\n",
       "      <td>19.0</td>\n",
       "      <td>1009.6</td>\n",
       "      <td>...</td>\n",
       "      <td>18.1</td>\n",
       "      <td>24.6</td>\n",
       "      <td>0.0</td>\n",
       "      <td>0.0</td>\n",
       "      <td>0</td>\n",
       "      <td>32.00</td>\n",
       "      <td>24.800000</td>\n",
       "      <td>8</td>\n",
       "      <td>19.791271</td>\n",
       "      <td>0.030004</td>\n",
       "    </tr>\n",
       "    <tr>\n",
       "      <th>7</th>\n",
       "      <td>2008-12-08</td>\n",
       "      <td>Albury</td>\n",
       "      <td>7.7</td>\n",
       "      <td>26.7</td>\n",
       "      <td>0.0</td>\n",
       "      <td>NaN</td>\n",
       "      <td>NaN</td>\n",
       "      <td>48.0</td>\n",
       "      <td>19.0</td>\n",
       "      <td>1013.4</td>\n",
       "      <td>...</td>\n",
       "      <td>16.3</td>\n",
       "      <td>25.5</td>\n",
       "      <td>0.0</td>\n",
       "      <td>0.0</td>\n",
       "      <td>0</td>\n",
       "      <td>34.04</td>\n",
       "      <td>24.800000</td>\n",
       "      <td>7</td>\n",
       "      <td>7.207085</td>\n",
       "      <td>0.023000</td>\n",
       "    </tr>\n",
       "    <tr>\n",
       "      <th>8</th>\n",
       "      <td>2008-12-09</td>\n",
       "      <td>Albury</td>\n",
       "      <td>9.7</td>\n",
       "      <td>31.9</td>\n",
       "      <td>0.0</td>\n",
       "      <td>NaN</td>\n",
       "      <td>NaN</td>\n",
       "      <td>42.0</td>\n",
       "      <td>9.0</td>\n",
       "      <td>1008.9</td>\n",
       "      <td>...</td>\n",
       "      <td>18.3</td>\n",
       "      <td>30.2</td>\n",
       "      <td>0.0</td>\n",
       "      <td>1.4</td>\n",
       "      <td>1</td>\n",
       "      <td>40.28</td>\n",
       "      <td>12.800000</td>\n",
       "      <td>19</td>\n",
       "      <td>1.540702</td>\n",
       "      <td>0.414649</td>\n",
       "    </tr>\n",
       "    <tr>\n",
       "      <th>9</th>\n",
       "      <td>2008-12-10</td>\n",
       "      <td>Albury</td>\n",
       "      <td>13.1</td>\n",
       "      <td>30.1</td>\n",
       "      <td>1.4</td>\n",
       "      <td>NaN</td>\n",
       "      <td>NaN</td>\n",
       "      <td>58.0</td>\n",
       "      <td>27.0</td>\n",
       "      <td>1007.0</td>\n",
       "      <td>...</td>\n",
       "      <td>20.1</td>\n",
       "      <td>28.2</td>\n",
       "      <td>1.0</td>\n",
       "      <td>0.0</td>\n",
       "      <td>0</td>\n",
       "      <td>38.12</td>\n",
       "      <td>34.400000</td>\n",
       "      <td>7</td>\n",
       "      <td>8.259833</td>\n",
       "      <td>0.064945</td>\n",
       "    </tr>\n",
       "  </tbody>\n",
       "</table>\n",
       "<p>10 rows × 23 columns</p>\n",
       "</div>"
      ],
      "text/plain": [
       "         date location  mintemp  maxtemp  rainfall  evaporation  sunshine  \\\n",
       "0  2008-12-01   Albury     13.4     22.9       0.6          NaN       NaN   \n",
       "1  2008-12-02   Albury      7.4     25.1       0.0          NaN       NaN   \n",
       "2  2008-12-03   Albury     12.9     25.7       0.0          NaN       NaN   \n",
       "3  2008-12-04   Albury      9.2     28.0       0.0          NaN       NaN   \n",
       "4  2008-12-05   Albury     17.5     32.3       1.0          NaN       NaN   \n",
       "5  2008-12-06   Albury     14.6     29.7       0.2          NaN       NaN   \n",
       "6  2008-12-07   Albury     14.3     25.0       0.0          NaN       NaN   \n",
       "7  2008-12-08   Albury      7.7     26.7       0.0          NaN       NaN   \n",
       "8  2008-12-09   Albury      9.7     31.9       0.0          NaN       NaN   \n",
       "9  2008-12-10   Albury     13.1     30.1       1.4          NaN       NaN   \n",
       "\n",
       "   humidity9am  humidity3pm  pressure9am  ...  temp9am  temp3pm  raintoday  \\\n",
       "0         71.0         22.0       1007.7  ...     16.9     21.8        0.0   \n",
       "1         44.0         25.0       1010.6  ...     17.2     24.3        0.0   \n",
       "2         38.0         30.0       1007.6  ...     21.0     23.2        0.0   \n",
       "3         45.0         16.0       1017.6  ...     18.1     26.5        0.0   \n",
       "4         82.0         33.0       1010.8  ...     17.8     29.7        0.0   \n",
       "5         55.0         23.0       1009.2  ...     20.6     28.9        0.0   \n",
       "6         49.0         19.0       1009.6  ...     18.1     24.6        0.0   \n",
       "7         48.0         19.0       1013.4  ...     16.3     25.5        0.0   \n",
       "8         42.0          9.0       1008.9  ...     18.3     30.2        0.0   \n",
       "9         58.0         27.0       1007.0  ...     20.1     28.2        1.0   \n",
       "\n",
       "   amountOfRain  raintomorrow   temp   humidity  precipitation3pm  \\\n",
       "0           0.0             0  29.48  28.400000                12   \n",
       "1           0.0             0  32.12   2.208569                10   \n",
       "2           0.0             0  32.84  38.000000                17   \n",
       "3           1.0             0  35.60  21.200000                 8   \n",
       "4           0.2             0  40.76  41.600000                 9   \n",
       "5           0.0             0  37.64  29.600000                 8   \n",
       "6           0.0             0  32.00  24.800000                 8   \n",
       "7           0.0             0  34.04  24.800000                 7   \n",
       "8           1.4             1  40.28  12.800000                19   \n",
       "9           0.0             0  38.12  34.400000                 7   \n",
       "\n",
       "   precipitation9am  modelo_vigente  \n",
       "0          5.115360        0.089825  \n",
       "1         21.497100        0.023477  \n",
       "2         20.782859        0.027580  \n",
       "3         12.028646        0.023962  \n",
       "4         11.883546        0.220164  \n",
       "5         17.320994        0.056883  \n",
       "6         19.791271        0.030004  \n",
       "7          7.207085        0.023000  \n",
       "8          1.540702        0.414649  \n",
       "9          8.259833        0.064945  \n",
       "\n",
       "[10 rows x 23 columns]"
      ]
     },
     "execution_count": 264,
     "metadata": {},
     "output_type": "execute_result"
    }
   ],
   "source": [
    "rain.head(10)"
   ]
  },
  {
   "cell_type": "markdown",
   "metadata": {},
   "source": [
    "## - Construir modelo básico de regressão logística"
   ]
  },
  {
   "cell_type": "code",
   "execution_count": 265,
   "metadata": {
    "ExecuteTime": {
     "end_time": "2020-12-08T15:27:11.845497Z",
     "start_time": "2020-12-08T15:27:11.700729Z"
    }
   },
   "outputs": [
    {
     "data": {
      "text/html": [
       "<div>\n",
       "<style scoped>\n",
       "    .dataframe tbody tr th:only-of-type {\n",
       "        vertical-align: middle;\n",
       "    }\n",
       "\n",
       "    .dataframe tbody tr th {\n",
       "        vertical-align: top;\n",
       "    }\n",
       "\n",
       "    .dataframe thead th {\n",
       "        text-align: right;\n",
       "    }\n",
       "</style>\n",
       "<table border=\"1\" class=\"dataframe\">\n",
       "  <thead>\n",
       "    <tr style=\"text-align: right;\">\n",
       "      <th></th>\n",
       "      <th>amountOfRain</th>\n",
       "      <th>precipitation3pm</th>\n",
       "      <th>precipitation9am</th>\n",
       "      <th>modelo_vigente</th>\n",
       "    </tr>\n",
       "  </thead>\n",
       "  <tbody>\n",
       "    <tr>\n",
       "      <th>0</th>\n",
       "      <td>0.0</td>\n",
       "      <td>12</td>\n",
       "      <td>5.115360</td>\n",
       "      <td>0.089825</td>\n",
       "    </tr>\n",
       "    <tr>\n",
       "      <th>1</th>\n",
       "      <td>0.0</td>\n",
       "      <td>10</td>\n",
       "      <td>21.497100</td>\n",
       "      <td>0.023477</td>\n",
       "    </tr>\n",
       "    <tr>\n",
       "      <th>2</th>\n",
       "      <td>0.0</td>\n",
       "      <td>17</td>\n",
       "      <td>20.782859</td>\n",
       "      <td>0.027580</td>\n",
       "    </tr>\n",
       "    <tr>\n",
       "      <th>3</th>\n",
       "      <td>1.0</td>\n",
       "      <td>8</td>\n",
       "      <td>12.028646</td>\n",
       "      <td>0.023962</td>\n",
       "    </tr>\n",
       "    <tr>\n",
       "      <th>4</th>\n",
       "      <td>0.2</td>\n",
       "      <td>9</td>\n",
       "      <td>11.883546</td>\n",
       "      <td>0.220164</td>\n",
       "    </tr>\n",
       "  </tbody>\n",
       "</table>\n",
       "</div>"
      ],
      "text/plain": [
       "   amountOfRain  precipitation3pm  precipitation9am  modelo_vigente\n",
       "0           0.0                12          5.115360        0.089825\n",
       "1           0.0                10         21.497100        0.023477\n",
       "2           0.0                17         20.782859        0.027580\n",
       "3           1.0                 8         12.028646        0.023962\n",
       "4           0.2                 9         11.883546        0.220164"
      ]
     },
     "execution_count": 265,
     "metadata": {},
     "output_type": "execute_result"
    }
   ],
   "source": [
    "X_train = rain[['amountOfRain','precipitation3pm','precipitation9am','modelo_vigente',]][0:106645]\n",
    "X_train.head()"
   ]
  },
  {
   "cell_type": "code",
   "execution_count": 266,
   "metadata": {
    "ExecuteTime": {
     "end_time": "2020-12-08T15:27:11.909573Z",
     "start_time": "2020-12-08T15:27:11.863832Z"
    }
   },
   "outputs": [],
   "source": [
    "from sklearn.preprocessing import StandardScaler\n",
    "scaler = StandardScaler()\n",
    "scaler.fit(X_train)\n",
    "X_train = scaler.transform(X_train)"
   ]
  },
  {
   "cell_type": "code",
   "execution_count": 267,
   "metadata": {
    "ExecuteTime": {
     "end_time": "2020-12-08T15:27:11.927059Z",
     "start_time": "2020-12-08T15:27:11.915244Z"
    }
   },
   "outputs": [
    {
     "data": {
      "text/plain": [
       "0    0\n",
       "1    0\n",
       "2    0\n",
       "3    0\n",
       "4    0\n",
       "Name: raintomorrow, dtype: int64"
      ]
     },
     "execution_count": 267,
     "metadata": {},
     "output_type": "execute_result"
    }
   ],
   "source": [
    "y_train = rain['raintomorrow'][0:106645]\n",
    "y_train.head()"
   ]
  },
  {
   "cell_type": "code",
   "execution_count": 268,
   "metadata": {
    "ExecuteTime": {
     "end_time": "2020-12-08T15:27:11.944177Z",
     "start_time": "2020-12-08T15:27:11.933978Z"
    }
   },
   "outputs": [],
   "source": [
    "X_valid = rain[['amountOfRain','precipitation3pm','precipitation9am','modelo_vigente',]][106645:135085]\n"
   ]
  },
  {
   "cell_type": "code",
   "execution_count": 269,
   "metadata": {
    "ExecuteTime": {
     "end_time": "2020-12-08T15:27:11.975170Z",
     "start_time": "2020-12-08T15:27:11.949937Z"
    }
   },
   "outputs": [],
   "source": [
    "from sklearn.preprocessing import StandardScaler\n",
    "scaler = StandardScaler()\n",
    "scaler.fit(X_valid)\n",
    "X_valid = scaler.transform(X_valid)"
   ]
  },
  {
   "cell_type": "code",
   "execution_count": 270,
   "metadata": {
    "ExecuteTime": {
     "end_time": "2020-12-08T15:27:11.989051Z",
     "start_time": "2020-12-08T15:27:11.983011Z"
    }
   },
   "outputs": [],
   "source": [
    "y_valid=rain['raintomorrow'][106645:135085]"
   ]
  },
  {
   "cell_type": "code",
   "execution_count": 271,
   "metadata": {
    "ExecuteTime": {
     "end_time": "2020-12-08T15:27:12.011535Z",
     "start_time": "2020-12-08T15:27:11.999769Z"
    }
   },
   "outputs": [],
   "source": [
    "X_test=rain[['amountOfRain','precipitation3pm','precipitation9am','modelo_vigente',]][135085:142194]"
   ]
  },
  {
   "cell_type": "code",
   "execution_count": 272,
   "metadata": {
    "ExecuteTime": {
     "end_time": "2020-12-08T15:27:12.024724Z",
     "start_time": "2020-12-08T15:27:12.017781Z"
    }
   },
   "outputs": [],
   "source": [
    "y_test=rain['raintomorrow'][135085:142194]"
   ]
  },
  {
   "cell_type": "code",
   "execution_count": 273,
   "metadata": {
    "ExecuteTime": {
     "end_time": "2020-12-08T15:27:12.377211Z",
     "start_time": "2020-12-08T15:27:12.029919Z"
    }
   },
   "outputs": [
    {
     "data": {
      "text/plain": [
       "LogisticRegression()"
      ]
     },
     "execution_count": 273,
     "metadata": {},
     "output_type": "execute_result"
    }
   ],
   "source": [
    "from sklearn.linear_model import LogisticRegression\n",
    "\n",
    "model = LogisticRegression()\n",
    "model.fit(X_train, y_train)"
   ]
  },
  {
   "cell_type": "code",
   "execution_count": 274,
   "metadata": {
    "ExecuteTime": {
     "end_time": "2020-12-08T15:27:12.407491Z",
     "start_time": "2020-12-08T15:27:12.381805Z"
    }
   },
   "outputs": [
    {
     "data": {
      "text/plain": [
       "0.9962867457452295"
      ]
     },
     "execution_count": 274,
     "metadata": {},
     "output_type": "execute_result"
    }
   ],
   "source": [
    "model.score(X_train, y_train)"
   ]
  },
  {
   "cell_type": "code",
   "execution_count": 275,
   "metadata": {
    "ExecuteTime": {
     "end_time": "2020-12-08T15:27:12.455203Z",
     "start_time": "2020-12-08T15:27:12.415126Z"
    }
   },
   "outputs": [
    {
     "data": {
      "text/plain": [
       "0.9974683544303797"
      ]
     },
     "execution_count": 275,
     "metadata": {},
     "output_type": "execute_result"
    }
   ],
   "source": [
    "model.score(X_valid, y_valid)"
   ]
  },
  {
   "cell_type": "markdown",
   "metadata": {},
   "source": [
    "### O modelo está apresentando um score muito alto porque a coluna \"modelo vigente\" já contém uma análise de dados e foi construída justamente para fazer uma boa previsão. Foi incluída por alguém, não faz parte do dataset original. Dessa forma, para a construção do nosso modelo, não devemos considerar essa coluna.\n"
   ]
  },
  {
   "cell_type": "code",
   "execution_count": null,
   "metadata": {},
   "outputs": [],
   "source": []
  },
  {
   "cell_type": "code",
   "execution_count": 276,
   "metadata": {
    "ExecuteTime": {
     "end_time": "2020-12-08T15:27:12.794922Z",
     "start_time": "2020-12-08T15:27:12.462787Z"
    }
   },
   "outputs": [
    {
     "data": {
      "text/html": [
       "<div>\n",
       "<style scoped>\n",
       "    .dataframe tbody tr th:only-of-type {\n",
       "        vertical-align: middle;\n",
       "    }\n",
       "\n",
       "    .dataframe tbody tr th {\n",
       "        vertical-align: top;\n",
       "    }\n",
       "\n",
       "    .dataframe thead th {\n",
       "        text-align: right;\n",
       "    }\n",
       "</style>\n",
       "<table border=\"1\" class=\"dataframe\">\n",
       "  <thead>\n",
       "    <tr style=\"text-align: right;\">\n",
       "      <th></th>\n",
       "      <th>mintemp</th>\n",
       "      <th>maxtemp</th>\n",
       "      <th>rainfall</th>\n",
       "      <th>evaporation</th>\n",
       "      <th>sunshine</th>\n",
       "      <th>humidity9am</th>\n",
       "      <th>humidity3pm</th>\n",
       "      <th>pressure9am</th>\n",
       "      <th>pressure3pm</th>\n",
       "      <th>cloud9am</th>\n",
       "      <th>...</th>\n",
       "      <th>temp9am</th>\n",
       "      <th>temp3pm</th>\n",
       "      <th>raintoday</th>\n",
       "      <th>amountOfRain</th>\n",
       "      <th>raintomorrow</th>\n",
       "      <th>temp</th>\n",
       "      <th>humidity</th>\n",
       "      <th>precipitation3pm</th>\n",
       "      <th>precipitation9am</th>\n",
       "      <th>modelo_vigente</th>\n",
       "    </tr>\n",
       "  </thead>\n",
       "  <tbody>\n",
       "    <tr>\n",
       "      <th>mintemp</th>\n",
       "      <td>1.000000</td>\n",
       "      <td>0.736267</td>\n",
       "      <td>0.104255</td>\n",
       "      <td>0.467261</td>\n",
       "      <td>0.072961</td>\n",
       "      <td>-0.234211</td>\n",
       "      <td>0.005999</td>\n",
       "      <td>-0.451260</td>\n",
       "      <td>-0.461623</td>\n",
       "      <td>0.077625</td>\n",
       "      <td>...</td>\n",
       "      <td>0.901813</td>\n",
       "      <td>0.708865</td>\n",
       "      <td>0.056185</td>\n",
       "      <td>0.124743</td>\n",
       "      <td>0.083936</td>\n",
       "      <td>0.584512</td>\n",
       "      <td>0.004145</td>\n",
       "      <td>0.001300</td>\n",
       "      <td>-0.001554</td>\n",
       "      <td>0.134768</td>\n",
       "    </tr>\n",
       "    <tr>\n",
       "      <th>maxtemp</th>\n",
       "      <td>0.736267</td>\n",
       "      <td>1.000000</td>\n",
       "      <td>-0.074839</td>\n",
       "      <td>0.588915</td>\n",
       "      <td>0.469967</td>\n",
       "      <td>-0.505432</td>\n",
       "      <td>-0.509270</td>\n",
       "      <td>-0.332293</td>\n",
       "      <td>-0.427279</td>\n",
       "      <td>-0.289865</td>\n",
       "      <td>...</td>\n",
       "      <td>0.887020</td>\n",
       "      <td>0.984562</td>\n",
       "      <td>-0.228884</td>\n",
       "      <td>-0.044208</td>\n",
       "      <td>-0.159237</td>\n",
       "      <td>0.794183</td>\n",
       "      <td>-0.463989</td>\n",
       "      <td>0.001191</td>\n",
       "      <td>-0.000918</td>\n",
       "      <td>-0.235871</td>\n",
       "    </tr>\n",
       "    <tr>\n",
       "      <th>rainfall</th>\n",
       "      <td>0.104255</td>\n",
       "      <td>-0.074839</td>\n",
       "      <td>1.000000</td>\n",
       "      <td>-0.064549</td>\n",
       "      <td>-0.227525</td>\n",
       "      <td>0.223725</td>\n",
       "      <td>0.255312</td>\n",
       "      <td>-0.168085</td>\n",
       "      <td>-0.126728</td>\n",
       "      <td>0.198195</td>\n",
       "      <td>...</td>\n",
       "      <td>0.011477</td>\n",
       "      <td>-0.079178</td>\n",
       "      <td>0.500997</td>\n",
       "      <td>0.308557</td>\n",
       "      <td>0.239032</td>\n",
       "      <td>-0.059987</td>\n",
       "      <td>0.232724</td>\n",
       "      <td>-0.002410</td>\n",
       "      <td>-0.002792</td>\n",
       "      <td>0.361186</td>\n",
       "    </tr>\n",
       "    <tr>\n",
       "      <th>evaporation</th>\n",
       "      <td>0.467261</td>\n",
       "      <td>0.588915</td>\n",
       "      <td>-0.064549</td>\n",
       "      <td>1.000000</td>\n",
       "      <td>0.366607</td>\n",
       "      <td>-0.505890</td>\n",
       "      <td>-0.392785</td>\n",
       "      <td>-0.269907</td>\n",
       "      <td>-0.293160</td>\n",
       "      <td>-0.185032</td>\n",
       "      <td>...</td>\n",
       "      <td>0.545497</td>\n",
       "      <td>0.574275</td>\n",
       "      <td>-0.187975</td>\n",
       "      <td>-0.043498</td>\n",
       "      <td>-0.119285</td>\n",
       "      <td>0.465288</td>\n",
       "      <td>-0.355983</td>\n",
       "      <td>0.004543</td>\n",
       "      <td>-0.002419</td>\n",
       "      <td>-0.164926</td>\n",
       "    </tr>\n",
       "    <tr>\n",
       "      <th>sunshine</th>\n",
       "      <td>0.072961</td>\n",
       "      <td>0.469967</td>\n",
       "      <td>-0.227525</td>\n",
       "      <td>0.366607</td>\n",
       "      <td>1.000000</td>\n",
       "      <td>-0.491603</td>\n",
       "      <td>-0.629122</td>\n",
       "      <td>0.040959</td>\n",
       "      <td>-0.020464</td>\n",
       "      <td>-0.675610</td>\n",
       "      <td>...</td>\n",
       "      <td>0.291139</td>\n",
       "      <td>0.490180</td>\n",
       "      <td>-0.330635</td>\n",
       "      <td>-0.294973</td>\n",
       "      <td>-0.450768</td>\n",
       "      <td>0.369367</td>\n",
       "      <td>-0.571486</td>\n",
       "      <td>-0.003830</td>\n",
       "      <td>0.003155</td>\n",
       "      <td>-0.639583</td>\n",
       "    </tr>\n",
       "    <tr>\n",
       "      <th>humidity9am</th>\n",
       "      <td>-0.234211</td>\n",
       "      <td>-0.505432</td>\n",
       "      <td>0.223725</td>\n",
       "      <td>-0.505890</td>\n",
       "      <td>-0.491603</td>\n",
       "      <td>1.000000</td>\n",
       "      <td>0.667388</td>\n",
       "      <td>0.139519</td>\n",
       "      <td>0.186955</td>\n",
       "      <td>0.452182</td>\n",
       "      <td>...</td>\n",
       "      <td>-0.472826</td>\n",
       "      <td>-0.499777</td>\n",
       "      <td>0.353358</td>\n",
       "      <td>0.172417</td>\n",
       "      <td>0.257161</td>\n",
       "      <td>-0.400695</td>\n",
       "      <td>0.606853</td>\n",
       "      <td>-0.001347</td>\n",
       "      <td>0.002721</td>\n",
       "      <td>0.393754</td>\n",
       "    </tr>\n",
       "    <tr>\n",
       "      <th>humidity3pm</th>\n",
       "      <td>0.005999</td>\n",
       "      <td>-0.509270</td>\n",
       "      <td>0.255312</td>\n",
       "      <td>-0.392785</td>\n",
       "      <td>-0.629122</td>\n",
       "      <td>0.667388</td>\n",
       "      <td>1.000000</td>\n",
       "      <td>-0.027449</td>\n",
       "      <td>0.051840</td>\n",
       "      <td>0.517037</td>\n",
       "      <td>...</td>\n",
       "      <td>-0.221467</td>\n",
       "      <td>-0.557989</td>\n",
       "      <td>0.378766</td>\n",
       "      <td>0.313183</td>\n",
       "      <td>0.446160</td>\n",
       "      <td>-0.404326</td>\n",
       "      <td>0.908871</td>\n",
       "      <td>-0.000707</td>\n",
       "      <td>0.000464</td>\n",
       "      <td>0.662753</td>\n",
       "    </tr>\n",
       "    <tr>\n",
       "      <th>pressure9am</th>\n",
       "      <td>-0.451260</td>\n",
       "      <td>-0.332293</td>\n",
       "      <td>-0.168085</td>\n",
       "      <td>-0.269907</td>\n",
       "      <td>0.040959</td>\n",
       "      <td>0.139519</td>\n",
       "      <td>-0.027449</td>\n",
       "      <td>1.000000</td>\n",
       "      <td>0.961348</td>\n",
       "      <td>-0.130081</td>\n",
       "      <td>...</td>\n",
       "      <td>-0.422773</td>\n",
       "      <td>-0.287301</td>\n",
       "      <td>-0.189804</td>\n",
       "      <td>-0.163673</td>\n",
       "      <td>-0.246371</td>\n",
       "      <td>-0.261068</td>\n",
       "      <td>-0.025464</td>\n",
       "      <td>-0.001760</td>\n",
       "      <td>0.001572</td>\n",
       "      <td>-0.361402</td>\n",
       "    </tr>\n",
       "    <tr>\n",
       "      <th>pressure3pm</th>\n",
       "      <td>-0.461623</td>\n",
       "      <td>-0.427279</td>\n",
       "      <td>-0.126728</td>\n",
       "      <td>-0.293160</td>\n",
       "      <td>-0.020464</td>\n",
       "      <td>0.186955</td>\n",
       "      <td>0.051840</td>\n",
       "      <td>0.961348</td>\n",
       "      <td>1.000000</td>\n",
       "      <td>-0.061152</td>\n",
       "      <td>...</td>\n",
       "      <td>-0.470325</td>\n",
       "      <td>-0.389863</td>\n",
       "      <td>-0.106298</td>\n",
       "      <td>-0.164184</td>\n",
       "      <td>-0.226031</td>\n",
       "      <td>-0.335831</td>\n",
       "      <td>0.046812</td>\n",
       "      <td>-0.001651</td>\n",
       "      <td>0.001973</td>\n",
       "      <td>-0.316223</td>\n",
       "    </tr>\n",
       "    <tr>\n",
       "      <th>cloud9am</th>\n",
       "      <td>0.077625</td>\n",
       "      <td>-0.289865</td>\n",
       "      <td>0.198195</td>\n",
       "      <td>-0.185032</td>\n",
       "      <td>-0.675610</td>\n",
       "      <td>0.452182</td>\n",
       "      <td>0.517037</td>\n",
       "      <td>-0.130081</td>\n",
       "      <td>-0.061152</td>\n",
       "      <td>1.000000</td>\n",
       "      <td>...</td>\n",
       "      <td>-0.137843</td>\n",
       "      <td>-0.302520</td>\n",
       "      <td>0.305950</td>\n",
       "      <td>0.198095</td>\n",
       "      <td>0.317380</td>\n",
       "      <td>-0.227987</td>\n",
       "      <td>0.469853</td>\n",
       "      <td>-0.001553</td>\n",
       "      <td>0.000611</td>\n",
       "      <td>0.475929</td>\n",
       "    </tr>\n",
       "    <tr>\n",
       "      <th>cloud3pm</th>\n",
       "      <td>0.020489</td>\n",
       "      <td>-0.279053</td>\n",
       "      <td>0.171993</td>\n",
       "      <td>-0.184287</td>\n",
       "      <td>-0.704202</td>\n",
       "      <td>0.358043</td>\n",
       "      <td>0.523270</td>\n",
       "      <td>-0.148139</td>\n",
       "      <td>-0.084963</td>\n",
       "      <td>0.604118</td>\n",
       "      <td>...</td>\n",
       "      <td>-0.127869</td>\n",
       "      <td>-0.318254</td>\n",
       "      <td>0.272149</td>\n",
       "      <td>0.234814</td>\n",
       "      <td>0.381870</td>\n",
       "      <td>-0.219620</td>\n",
       "      <td>0.475124</td>\n",
       "      <td>0.001151</td>\n",
       "      <td>-0.005280</td>\n",
       "      <td>0.561427</td>\n",
       "    </tr>\n",
       "    <tr>\n",
       "      <th>temp9am</th>\n",
       "      <td>0.901813</td>\n",
       "      <td>0.887020</td>\n",
       "      <td>0.011477</td>\n",
       "      <td>0.545497</td>\n",
       "      <td>0.291139</td>\n",
       "      <td>-0.472826</td>\n",
       "      <td>-0.221467</td>\n",
       "      <td>-0.422773</td>\n",
       "      <td>-0.470325</td>\n",
       "      <td>-0.137843</td>\n",
       "      <td>...</td>\n",
       "      <td>1.000000</td>\n",
       "      <td>0.860574</td>\n",
       "      <td>-0.096593</td>\n",
       "      <td>0.051232</td>\n",
       "      <td>-0.025691</td>\n",
       "      <td>0.703502</td>\n",
       "      <td>-0.202643</td>\n",
       "      <td>0.001608</td>\n",
       "      <td>-0.000653</td>\n",
       "      <td>-0.035495</td>\n",
       "    </tr>\n",
       "    <tr>\n",
       "      <th>temp3pm</th>\n",
       "      <td>0.708865</td>\n",
       "      <td>0.984562</td>\n",
       "      <td>-0.079178</td>\n",
       "      <td>0.574275</td>\n",
       "      <td>0.490180</td>\n",
       "      <td>-0.499777</td>\n",
       "      <td>-0.557989</td>\n",
       "      <td>-0.287301</td>\n",
       "      <td>-0.389863</td>\n",
       "      <td>-0.302520</td>\n",
       "      <td>...</td>\n",
       "      <td>0.860574</td>\n",
       "      <td>1.000000</td>\n",
       "      <td>-0.234925</td>\n",
       "      <td>-0.066817</td>\n",
       "      <td>-0.192424</td>\n",
       "      <td>0.781101</td>\n",
       "      <td>-0.508504</td>\n",
       "      <td>0.001195</td>\n",
       "      <td>-0.001591</td>\n",
       "      <td>-0.285014</td>\n",
       "    </tr>\n",
       "    <tr>\n",
       "      <th>raintoday</th>\n",
       "      <td>0.056185</td>\n",
       "      <td>-0.228884</td>\n",
       "      <td>0.500997</td>\n",
       "      <td>-0.187975</td>\n",
       "      <td>-0.330635</td>\n",
       "      <td>0.353358</td>\n",
       "      <td>0.378766</td>\n",
       "      <td>-0.189804</td>\n",
       "      <td>-0.106298</td>\n",
       "      <td>0.305950</td>\n",
       "      <td>...</td>\n",
       "      <td>-0.096593</td>\n",
       "      <td>-0.234925</td>\n",
       "      <td>1.000000</td>\n",
       "      <td>0.223120</td>\n",
       "      <td>0.313097</td>\n",
       "      <td>-0.182816</td>\n",
       "      <td>0.345152</td>\n",
       "      <td>-0.001854</td>\n",
       "      <td>0.001691</td>\n",
       "      <td>0.477444</td>\n",
       "    </tr>\n",
       "    <tr>\n",
       "      <th>amountOfRain</th>\n",
       "      <td>0.124743</td>\n",
       "      <td>-0.044208</td>\n",
       "      <td>0.308557</td>\n",
       "      <td>-0.043498</td>\n",
       "      <td>-0.294973</td>\n",
       "      <td>0.172417</td>\n",
       "      <td>0.313183</td>\n",
       "      <td>-0.163673</td>\n",
       "      <td>-0.164184</td>\n",
       "      <td>0.198095</td>\n",
       "      <td>...</td>\n",
       "      <td>0.051232</td>\n",
       "      <td>-0.066817</td>\n",
       "      <td>0.223120</td>\n",
       "      <td>1.000000</td>\n",
       "      <td>0.501485</td>\n",
       "      <td>-0.034996</td>\n",
       "      <td>0.286599</td>\n",
       "      <td>-0.001491</td>\n",
       "      <td>-0.002363</td>\n",
       "      <td>0.498879</td>\n",
       "    </tr>\n",
       "    <tr>\n",
       "      <th>raintomorrow</th>\n",
       "      <td>0.083936</td>\n",
       "      <td>-0.159237</td>\n",
       "      <td>0.239032</td>\n",
       "      <td>-0.119285</td>\n",
       "      <td>-0.450768</td>\n",
       "      <td>0.257161</td>\n",
       "      <td>0.446160</td>\n",
       "      <td>-0.246371</td>\n",
       "      <td>-0.226031</td>\n",
       "      <td>0.317380</td>\n",
       "      <td>...</td>\n",
       "      <td>-0.025691</td>\n",
       "      <td>-0.192424</td>\n",
       "      <td>0.313097</td>\n",
       "      <td>0.501485</td>\n",
       "      <td>1.000000</td>\n",
       "      <td>-0.125976</td>\n",
       "      <td>0.405600</td>\n",
       "      <td>0.004503</td>\n",
       "      <td>-0.007018</td>\n",
       "      <td>0.825086</td>\n",
       "    </tr>\n",
       "    <tr>\n",
       "      <th>temp</th>\n",
       "      <td>0.584512</td>\n",
       "      <td>0.794183</td>\n",
       "      <td>-0.059987</td>\n",
       "      <td>0.465288</td>\n",
       "      <td>0.369367</td>\n",
       "      <td>-0.400695</td>\n",
       "      <td>-0.404326</td>\n",
       "      <td>-0.261068</td>\n",
       "      <td>-0.335831</td>\n",
       "      <td>-0.227987</td>\n",
       "      <td>...</td>\n",
       "      <td>0.703502</td>\n",
       "      <td>0.781101</td>\n",
       "      <td>-0.182816</td>\n",
       "      <td>-0.034996</td>\n",
       "      <td>-0.125976</td>\n",
       "      <td>1.000000</td>\n",
       "      <td>-0.368809</td>\n",
       "      <td>0.000658</td>\n",
       "      <td>-0.000146</td>\n",
       "      <td>-0.186816</td>\n",
       "    </tr>\n",
       "    <tr>\n",
       "      <th>humidity</th>\n",
       "      <td>0.004145</td>\n",
       "      <td>-0.463989</td>\n",
       "      <td>0.232724</td>\n",
       "      <td>-0.355983</td>\n",
       "      <td>-0.571486</td>\n",
       "      <td>0.606853</td>\n",
       "      <td>0.908871</td>\n",
       "      <td>-0.025464</td>\n",
       "      <td>0.046812</td>\n",
       "      <td>0.469853</td>\n",
       "      <td>...</td>\n",
       "      <td>-0.202643</td>\n",
       "      <td>-0.508504</td>\n",
       "      <td>0.345152</td>\n",
       "      <td>0.286599</td>\n",
       "      <td>0.405600</td>\n",
       "      <td>-0.368809</td>\n",
       "      <td>1.000000</td>\n",
       "      <td>-0.000390</td>\n",
       "      <td>-0.000819</td>\n",
       "      <td>0.602499</td>\n",
       "    </tr>\n",
       "    <tr>\n",
       "      <th>precipitation3pm</th>\n",
       "      <td>0.001300</td>\n",
       "      <td>0.001191</td>\n",
       "      <td>-0.002410</td>\n",
       "      <td>0.004543</td>\n",
       "      <td>-0.003830</td>\n",
       "      <td>-0.001347</td>\n",
       "      <td>-0.000707</td>\n",
       "      <td>-0.001760</td>\n",
       "      <td>-0.001651</td>\n",
       "      <td>-0.001553</td>\n",
       "      <td>...</td>\n",
       "      <td>0.001608</td>\n",
       "      <td>0.001195</td>\n",
       "      <td>-0.001854</td>\n",
       "      <td>-0.001491</td>\n",
       "      <td>0.004503</td>\n",
       "      <td>0.000658</td>\n",
       "      <td>-0.000390</td>\n",
       "      <td>1.000000</td>\n",
       "      <td>0.003420</td>\n",
       "      <td>0.003212</td>\n",
       "    </tr>\n",
       "    <tr>\n",
       "      <th>precipitation9am</th>\n",
       "      <td>-0.001554</td>\n",
       "      <td>-0.000918</td>\n",
       "      <td>-0.002792</td>\n",
       "      <td>-0.002419</td>\n",
       "      <td>0.003155</td>\n",
       "      <td>0.002721</td>\n",
       "      <td>0.000464</td>\n",
       "      <td>0.001572</td>\n",
       "      <td>0.001973</td>\n",
       "      <td>0.000611</td>\n",
       "      <td>...</td>\n",
       "      <td>-0.000653</td>\n",
       "      <td>-0.001591</td>\n",
       "      <td>0.001691</td>\n",
       "      <td>-0.002363</td>\n",
       "      <td>-0.007018</td>\n",
       "      <td>-0.000146</td>\n",
       "      <td>-0.000819</td>\n",
       "      <td>0.003420</td>\n",
       "      <td>1.000000</td>\n",
       "      <td>-0.002983</td>\n",
       "    </tr>\n",
       "    <tr>\n",
       "      <th>modelo_vigente</th>\n",
       "      <td>0.134768</td>\n",
       "      <td>-0.235871</td>\n",
       "      <td>0.361186</td>\n",
       "      <td>-0.164926</td>\n",
       "      <td>-0.639583</td>\n",
       "      <td>0.393754</td>\n",
       "      <td>0.662753</td>\n",
       "      <td>-0.361402</td>\n",
       "      <td>-0.316223</td>\n",
       "      <td>0.475929</td>\n",
       "      <td>...</td>\n",
       "      <td>-0.035495</td>\n",
       "      <td>-0.285014</td>\n",
       "      <td>0.477444</td>\n",
       "      <td>0.498879</td>\n",
       "      <td>0.825086</td>\n",
       "      <td>-0.186816</td>\n",
       "      <td>0.602499</td>\n",
       "      <td>0.003212</td>\n",
       "      <td>-0.002983</td>\n",
       "      <td>1.000000</td>\n",
       "    </tr>\n",
       "  </tbody>\n",
       "</table>\n",
       "<p>21 rows × 21 columns</p>\n",
       "</div>"
      ],
      "text/plain": [
       "                   mintemp   maxtemp  rainfall  evaporation  sunshine  \\\n",
       "mintemp           1.000000  0.736267  0.104255     0.467261  0.072961   \n",
       "maxtemp           0.736267  1.000000 -0.074839     0.588915  0.469967   \n",
       "rainfall          0.104255 -0.074839  1.000000    -0.064549 -0.227525   \n",
       "evaporation       0.467261  0.588915 -0.064549     1.000000  0.366607   \n",
       "sunshine          0.072961  0.469967 -0.227525     0.366607  1.000000   \n",
       "humidity9am      -0.234211 -0.505432  0.223725    -0.505890 -0.491603   \n",
       "humidity3pm       0.005999 -0.509270  0.255312    -0.392785 -0.629122   \n",
       "pressure9am      -0.451260 -0.332293 -0.168085    -0.269907  0.040959   \n",
       "pressure3pm      -0.461623 -0.427279 -0.126728    -0.293160 -0.020464   \n",
       "cloud9am          0.077625 -0.289865  0.198195    -0.185032 -0.675610   \n",
       "cloud3pm          0.020489 -0.279053  0.171993    -0.184287 -0.704202   \n",
       "temp9am           0.901813  0.887020  0.011477     0.545497  0.291139   \n",
       "temp3pm           0.708865  0.984562 -0.079178     0.574275  0.490180   \n",
       "raintoday         0.056185 -0.228884  0.500997    -0.187975 -0.330635   \n",
       "amountOfRain      0.124743 -0.044208  0.308557    -0.043498 -0.294973   \n",
       "raintomorrow      0.083936 -0.159237  0.239032    -0.119285 -0.450768   \n",
       "temp              0.584512  0.794183 -0.059987     0.465288  0.369367   \n",
       "humidity          0.004145 -0.463989  0.232724    -0.355983 -0.571486   \n",
       "precipitation3pm  0.001300  0.001191 -0.002410     0.004543 -0.003830   \n",
       "precipitation9am -0.001554 -0.000918 -0.002792    -0.002419  0.003155   \n",
       "modelo_vigente    0.134768 -0.235871  0.361186    -0.164926 -0.639583   \n",
       "\n",
       "                  humidity9am  humidity3pm  pressure9am  pressure3pm  \\\n",
       "mintemp             -0.234211     0.005999    -0.451260    -0.461623   \n",
       "maxtemp             -0.505432    -0.509270    -0.332293    -0.427279   \n",
       "rainfall             0.223725     0.255312    -0.168085    -0.126728   \n",
       "evaporation         -0.505890    -0.392785    -0.269907    -0.293160   \n",
       "sunshine            -0.491603    -0.629122     0.040959    -0.020464   \n",
       "humidity9am          1.000000     0.667388     0.139519     0.186955   \n",
       "humidity3pm          0.667388     1.000000    -0.027449     0.051840   \n",
       "pressure9am          0.139519    -0.027449     1.000000     0.961348   \n",
       "pressure3pm          0.186955     0.051840     0.961348     1.000000   \n",
       "cloud9am             0.452182     0.517037    -0.130081    -0.061152   \n",
       "cloud3pm             0.358043     0.523270    -0.148139    -0.084963   \n",
       "temp9am             -0.472826    -0.221467    -0.422773    -0.470325   \n",
       "temp3pm             -0.499777    -0.557989    -0.287301    -0.389863   \n",
       "raintoday            0.353358     0.378766    -0.189804    -0.106298   \n",
       "amountOfRain         0.172417     0.313183    -0.163673    -0.164184   \n",
       "raintomorrow         0.257161     0.446160    -0.246371    -0.226031   \n",
       "temp                -0.400695    -0.404326    -0.261068    -0.335831   \n",
       "humidity             0.606853     0.908871    -0.025464     0.046812   \n",
       "precipitation3pm    -0.001347    -0.000707    -0.001760    -0.001651   \n",
       "precipitation9am     0.002721     0.000464     0.001572     0.001973   \n",
       "modelo_vigente       0.393754     0.662753    -0.361402    -0.316223   \n",
       "\n",
       "                  cloud9am  ...   temp9am   temp3pm  raintoday  amountOfRain  \\\n",
       "mintemp           0.077625  ...  0.901813  0.708865   0.056185      0.124743   \n",
       "maxtemp          -0.289865  ...  0.887020  0.984562  -0.228884     -0.044208   \n",
       "rainfall          0.198195  ...  0.011477 -0.079178   0.500997      0.308557   \n",
       "evaporation      -0.185032  ...  0.545497  0.574275  -0.187975     -0.043498   \n",
       "sunshine         -0.675610  ...  0.291139  0.490180  -0.330635     -0.294973   \n",
       "humidity9am       0.452182  ... -0.472826 -0.499777   0.353358      0.172417   \n",
       "humidity3pm       0.517037  ... -0.221467 -0.557989   0.378766      0.313183   \n",
       "pressure9am      -0.130081  ... -0.422773 -0.287301  -0.189804     -0.163673   \n",
       "pressure3pm      -0.061152  ... -0.470325 -0.389863  -0.106298     -0.164184   \n",
       "cloud9am          1.000000  ... -0.137843 -0.302520   0.305950      0.198095   \n",
       "cloud3pm          0.604118  ... -0.127869 -0.318254   0.272149      0.234814   \n",
       "temp9am          -0.137843  ...  1.000000  0.860574  -0.096593      0.051232   \n",
       "temp3pm          -0.302520  ...  0.860574  1.000000  -0.234925     -0.066817   \n",
       "raintoday         0.305950  ... -0.096593 -0.234925   1.000000      0.223120   \n",
       "amountOfRain      0.198095  ...  0.051232 -0.066817   0.223120      1.000000   \n",
       "raintomorrow      0.317380  ... -0.025691 -0.192424   0.313097      0.501485   \n",
       "temp             -0.227987  ...  0.703502  0.781101  -0.182816     -0.034996   \n",
       "humidity          0.469853  ... -0.202643 -0.508504   0.345152      0.286599   \n",
       "precipitation3pm -0.001553  ...  0.001608  0.001195  -0.001854     -0.001491   \n",
       "precipitation9am  0.000611  ... -0.000653 -0.001591   0.001691     -0.002363   \n",
       "modelo_vigente    0.475929  ... -0.035495 -0.285014   0.477444      0.498879   \n",
       "\n",
       "                  raintomorrow      temp  humidity  precipitation3pm  \\\n",
       "mintemp               0.083936  0.584512  0.004145          0.001300   \n",
       "maxtemp              -0.159237  0.794183 -0.463989          0.001191   \n",
       "rainfall              0.239032 -0.059987  0.232724         -0.002410   \n",
       "evaporation          -0.119285  0.465288 -0.355983          0.004543   \n",
       "sunshine             -0.450768  0.369367 -0.571486         -0.003830   \n",
       "humidity9am           0.257161 -0.400695  0.606853         -0.001347   \n",
       "humidity3pm           0.446160 -0.404326  0.908871         -0.000707   \n",
       "pressure9am          -0.246371 -0.261068 -0.025464         -0.001760   \n",
       "pressure3pm          -0.226031 -0.335831  0.046812         -0.001651   \n",
       "cloud9am              0.317380 -0.227987  0.469853         -0.001553   \n",
       "cloud3pm              0.381870 -0.219620  0.475124          0.001151   \n",
       "temp9am              -0.025691  0.703502 -0.202643          0.001608   \n",
       "temp3pm              -0.192424  0.781101 -0.508504          0.001195   \n",
       "raintoday             0.313097 -0.182816  0.345152         -0.001854   \n",
       "amountOfRain          0.501485 -0.034996  0.286599         -0.001491   \n",
       "raintomorrow          1.000000 -0.125976  0.405600          0.004503   \n",
       "temp                 -0.125976  1.000000 -0.368809          0.000658   \n",
       "humidity              0.405600 -0.368809  1.000000         -0.000390   \n",
       "precipitation3pm      0.004503  0.000658 -0.000390          1.000000   \n",
       "precipitation9am     -0.007018 -0.000146 -0.000819          0.003420   \n",
       "modelo_vigente        0.825086 -0.186816  0.602499          0.003212   \n",
       "\n",
       "                  precipitation9am  modelo_vigente  \n",
       "mintemp                  -0.001554        0.134768  \n",
       "maxtemp                  -0.000918       -0.235871  \n",
       "rainfall                 -0.002792        0.361186  \n",
       "evaporation              -0.002419       -0.164926  \n",
       "sunshine                  0.003155       -0.639583  \n",
       "humidity9am               0.002721        0.393754  \n",
       "humidity3pm               0.000464        0.662753  \n",
       "pressure9am               0.001572       -0.361402  \n",
       "pressure3pm               0.001973       -0.316223  \n",
       "cloud9am                  0.000611        0.475929  \n",
       "cloud3pm                 -0.005280        0.561427  \n",
       "temp9am                  -0.000653       -0.035495  \n",
       "temp3pm                  -0.001591       -0.285014  \n",
       "raintoday                 0.001691        0.477444  \n",
       "amountOfRain             -0.002363        0.498879  \n",
       "raintomorrow             -0.007018        0.825086  \n",
       "temp                     -0.000146       -0.186816  \n",
       "humidity                 -0.000819        0.602499  \n",
       "precipitation3pm          0.003420        0.003212  \n",
       "precipitation9am          1.000000       -0.002983  \n",
       "modelo_vigente           -0.002983        1.000000  \n",
       "\n",
       "[21 rows x 21 columns]"
      ]
     },
     "execution_count": 276,
     "metadata": {},
     "output_type": "execute_result"
    }
   ],
   "source": [
    "rain.corr()"
   ]
  },
  {
   "cell_type": "markdown",
   "metadata": {},
   "source": [
    "### Fizemos novo modelo, sem a coluna \"modelo vigente\", e o score continuou muito alto, 99%. Analisando as colunas, notamos que a coluna \"amountOfRain\"traz a mesma informação que a \"raintomorrow\", ou seja, ela também traz a informação que buscamos(target). Dessa forma, não pode fazer parte das variáveis explicativas. Para construção do baseline, retiramos essa coluna. Segue o modelo abaixo, que pode ser considerado nosso baseline."
   ]
  },
  {
   "cell_type": "code",
   "execution_count": 277,
   "metadata": {
    "ExecuteTime": {
     "end_time": "2020-12-08T15:27:12.821606Z",
     "start_time": "2020-12-08T15:27:12.806684Z"
    }
   },
   "outputs": [],
   "source": [
    "X_train1 = rain[['precipitation3pm','precipitation9am']][0:106645]\n"
   ]
  },
  {
   "cell_type": "code",
   "execution_count": 278,
   "metadata": {
    "ExecuteTime": {
     "end_time": "2020-12-08T15:27:12.837485Z",
     "start_time": "2020-12-08T15:27:12.829097Z"
    }
   },
   "outputs": [],
   "source": [
    "y_train1 = rain['raintomorrow'][0:106645]"
   ]
  },
  {
   "cell_type": "code",
   "execution_count": 279,
   "metadata": {
    "ExecuteTime": {
     "end_time": "2020-12-08T15:27:12.875497Z",
     "start_time": "2020-12-08T15:27:12.848634Z"
    }
   },
   "outputs": [],
   "source": [
    "from sklearn.preprocessing import StandardScaler\n",
    "scaler = StandardScaler()\n",
    "scaler.fit(X_train1)\n",
    "X_train1 = scaler.transform(X_train1)"
   ]
  },
  {
   "cell_type": "code",
   "execution_count": 280,
   "metadata": {
    "ExecuteTime": {
     "end_time": "2020-12-08T15:27:12.904360Z",
     "start_time": "2020-12-08T15:27:12.882844Z"
    }
   },
   "outputs": [],
   "source": [
    "X_valid1 = rain[['precipitation3pm','precipitation9am']][106645:135085]"
   ]
  },
  {
   "cell_type": "code",
   "execution_count": 281,
   "metadata": {
    "ExecuteTime": {
     "end_time": "2020-12-08T15:27:12.920008Z",
     "start_time": "2020-12-08T15:27:12.913450Z"
    }
   },
   "outputs": [],
   "source": [
    "y_valid1 = rain['raintomorrow'][106645:135085]"
   ]
  },
  {
   "cell_type": "code",
   "execution_count": 282,
   "metadata": {
    "ExecuteTime": {
     "end_time": "2020-12-08T15:27:12.954180Z",
     "start_time": "2020-12-08T15:27:12.929333Z"
    }
   },
   "outputs": [],
   "source": [
    "from sklearn.preprocessing import StandardScaler\n",
    "scaler = StandardScaler()\n",
    "scaler.fit(X_valid1)\n",
    "X_valid1 = scaler.transform(X_valid1)"
   ]
  },
  {
   "cell_type": "code",
   "execution_count": 283,
   "metadata": {
    "ExecuteTime": {
     "end_time": "2020-12-08T15:27:12.981245Z",
     "start_time": "2020-12-08T15:27:12.972988Z"
    }
   },
   "outputs": [],
   "source": [
    "X_test1=rain[['precipitation3pm','precipitation9am']][135085:142194]"
   ]
  },
  {
   "cell_type": "code",
   "execution_count": 284,
   "metadata": {
    "ExecuteTime": {
     "end_time": "2020-12-08T15:27:13.004948Z",
     "start_time": "2020-12-08T15:27:12.995751Z"
    }
   },
   "outputs": [],
   "source": [
    "y_test1 = rain['raintomorrow'][135085:142194]"
   ]
  },
  {
   "cell_type": "code",
   "execution_count": 285,
   "metadata": {
    "ExecuteTime": {
     "end_time": "2020-12-08T15:27:13.028623Z",
     "start_time": "2020-12-08T15:27:13.010859Z"
    }
   },
   "outputs": [],
   "source": [
    "from sklearn.preprocessing import StandardScaler\n",
    "scaler = StandardScaler()\n",
    "scaler.fit(X_test1)\n",
    "X_test1 = scaler.transform(X_test1)"
   ]
  },
  {
   "cell_type": "code",
   "execution_count": 286,
   "metadata": {
    "ExecuteTime": {
     "end_time": "2020-12-08T15:27:13.043941Z",
     "start_time": "2020-12-08T15:27:13.036135Z"
    }
   },
   "outputs": [],
   "source": [
    "model1 = LogisticRegression()"
   ]
  },
  {
   "cell_type": "code",
   "execution_count": 287,
   "metadata": {
    "ExecuteTime": {
     "end_time": "2020-12-08T15:27:13.164583Z",
     "start_time": "2020-12-08T15:27:13.048486Z"
    }
   },
   "outputs": [
    {
     "data": {
      "text/plain": [
       "LogisticRegression()"
      ]
     },
     "execution_count": 287,
     "metadata": {},
     "output_type": "execute_result"
    }
   ],
   "source": [
    "model1.fit(X_train1, y_train1)"
   ]
  },
  {
   "cell_type": "code",
   "execution_count": 288,
   "metadata": {
    "ExecuteTime": {
     "end_time": "2020-12-08T15:27:13.196810Z",
     "start_time": "2020-12-08T15:27:13.172551Z"
    }
   },
   "outputs": [
    {
     "data": {
      "text/plain": [
       "0.7729851376060762"
      ]
     },
     "execution_count": 288,
     "metadata": {},
     "output_type": "execute_result"
    }
   ],
   "source": [
    "model1.score(X_train1, y_train1)"
   ]
  },
  {
   "cell_type": "code",
   "execution_count": 289,
   "metadata": {
    "ExecuteTime": {
     "end_time": "2020-12-08T15:27:13.224769Z",
     "start_time": "2020-12-08T15:27:13.202573Z"
    }
   },
   "outputs": [
    {
     "data": {
      "text/plain": [
       "array([[ 0.01239746, -0.01877866]])"
      ]
     },
     "execution_count": 289,
     "metadata": {},
     "output_type": "execute_result"
    }
   ],
   "source": [
    "model1.coef_"
   ]
  },
  {
   "cell_type": "code",
   "execution_count": 290,
   "metadata": {
    "ExecuteTime": {
     "end_time": "2020-12-08T15:27:13.287106Z",
     "start_time": "2020-12-08T15:27:13.231462Z"
    }
   },
   "outputs": [
    {
     "data": {
      "text/html": [
       "<div>\n",
       "<style scoped>\n",
       "    .dataframe tbody tr th:only-of-type {\n",
       "        vertical-align: middle;\n",
       "    }\n",
       "\n",
       "    .dataframe tbody tr th {\n",
       "        vertical-align: top;\n",
       "    }\n",
       "\n",
       "    .dataframe thead th {\n",
       "        text-align: right;\n",
       "    }\n",
       "</style>\n",
       "<table border=\"1\" class=\"dataframe\">\n",
       "  <thead>\n",
       "    <tr style=\"text-align: right;\">\n",
       "      <th></th>\n",
       "      <th>amountOfRain</th>\n",
       "      <th>precipitation3pm</th>\n",
       "      <th>precipitation9am</th>\n",
       "      <th>raintomorrow</th>\n",
       "    </tr>\n",
       "  </thead>\n",
       "  <tbody>\n",
       "    <tr>\n",
       "      <th>amountOfRain</th>\n",
       "      <td>1.000000</td>\n",
       "      <td>-0.001491</td>\n",
       "      <td>-0.002363</td>\n",
       "      <td>0.501485</td>\n",
       "    </tr>\n",
       "    <tr>\n",
       "      <th>precipitation3pm</th>\n",
       "      <td>-0.001491</td>\n",
       "      <td>1.000000</td>\n",
       "      <td>0.003420</td>\n",
       "      <td>0.004503</td>\n",
       "    </tr>\n",
       "    <tr>\n",
       "      <th>precipitation9am</th>\n",
       "      <td>-0.002363</td>\n",
       "      <td>0.003420</td>\n",
       "      <td>1.000000</td>\n",
       "      <td>-0.007018</td>\n",
       "    </tr>\n",
       "    <tr>\n",
       "      <th>raintomorrow</th>\n",
       "      <td>0.501485</td>\n",
       "      <td>0.004503</td>\n",
       "      <td>-0.007018</td>\n",
       "      <td>1.000000</td>\n",
       "    </tr>\n",
       "  </tbody>\n",
       "</table>\n",
       "</div>"
      ],
      "text/plain": [
       "                  amountOfRain  precipitation3pm  precipitation9am  \\\n",
       "amountOfRain          1.000000         -0.001491         -0.002363   \n",
       "precipitation3pm     -0.001491          1.000000          0.003420   \n",
       "precipitation9am     -0.002363          0.003420          1.000000   \n",
       "raintomorrow          0.501485          0.004503         -0.007018   \n",
       "\n",
       "                  raintomorrow  \n",
       "amountOfRain          0.501485  \n",
       "precipitation3pm      0.004503  \n",
       "precipitation9am     -0.007018  \n",
       "raintomorrow          1.000000  "
      ]
     },
     "execution_count": 290,
     "metadata": {},
     "output_type": "execute_result"
    }
   ],
   "source": [
    "rain[['amountOfRain','precipitation3pm','precipitation9am','raintomorrow']].corr()"
   ]
  },
  {
   "cell_type": "code",
   "execution_count": 291,
   "metadata": {
    "ExecuteTime": {
     "end_time": "2020-12-08T15:27:13.305272Z",
     "start_time": "2020-12-08T15:27:13.297562Z"
    }
   },
   "outputs": [],
   "source": [
    "#rain.head(40)"
   ]
  },
  {
   "cell_type": "code",
   "execution_count": 292,
   "metadata": {
    "ExecuteTime": {
     "end_time": "2020-12-08T15:27:13.334524Z",
     "start_time": "2020-12-08T15:27:13.314912Z"
    }
   },
   "outputs": [
    {
     "data": {
      "text/plain": [
       "0    0.775819\n",
       "1    0.224181\n",
       "Name: raintomorrow, dtype: float64"
      ]
     },
     "execution_count": 292,
     "metadata": {},
     "output_type": "execute_result"
    }
   ],
   "source": [
    "rain['raintomorrow'].value_counts(normalize=True)"
   ]
  },
  {
   "cell_type": "markdown",
   "metadata": {},
   "source": [
    "#### o modelo parece estar \"chutando\" tudo como se não fosse chover nunca, pois o score está próximo dos números reais "
   ]
  },
  {
   "cell_type": "markdown",
   "metadata": {},
   "source": [
    "### - Apurando nossso baseline"
   ]
  },
  {
   "cell_type": "code",
   "execution_count": 297,
   "metadata": {
    "ExecuteTime": {
     "end_time": "2020-12-08T15:27:13.511064Z",
     "start_time": "2020-12-08T15:27:13.497995Z"
    }
   },
   "outputs": [],
   "source": [
    "rain['rainfall']=rain['rainfall'].fillna(rain['rainfall'].mean())"
   ]
  },
  {
   "cell_type": "code",
   "execution_count": 298,
   "metadata": {
    "ExecuteTime": {
     "end_time": "2020-12-08T15:27:13.597110Z",
     "start_time": "2020-12-08T15:27:13.515459Z"
    }
   },
   "outputs": [
    {
     "name": "stdout",
     "output_type": "stream",
     "text": [
      "<class 'pandas.core.frame.DataFrame'>\n",
      "RangeIndex: 142193 entries, 0 to 142192\n",
      "Data columns (total 23 columns):\n",
      " #   Column            Non-Null Count   Dtype  \n",
      "---  ------            --------------   -----  \n",
      " 0   date              142193 non-null  object \n",
      " 1   location          142193 non-null  object \n",
      " 2   mintemp           141556 non-null  float64\n",
      " 3   maxtemp           141871 non-null  float64\n",
      " 4   rainfall          142193 non-null  float64\n",
      " 5   evaporation       81350 non-null   float64\n",
      " 6   sunshine          74377 non-null   float64\n",
      " 7   humidity9am       140419 non-null  float64\n",
      " 8   humidity3pm       138583 non-null  float64\n",
      " 9   pressure9am       128179 non-null  float64\n",
      " 10  pressure3pm       128212 non-null  float64\n",
      " 11  cloud9am          88536 non-null   float64\n",
      " 12  cloud3pm          85099 non-null   float64\n",
      " 13  temp9am           141289 non-null  float64\n",
      " 14  temp3pm           139467 non-null  float64\n",
      " 15  raintoday         140787 non-null  float64\n",
      " 16  amountOfRain      142193 non-null  float64\n",
      " 17  raintomorrow      142193 non-null  int64  \n",
      " 18  temp              141871 non-null  float64\n",
      " 19  humidity          138583 non-null  float64\n",
      " 20  precipitation3pm  142193 non-null  int64  \n",
      " 21  precipitation9am  142193 non-null  float64\n",
      " 22  modelo_vigente    142193 non-null  float64\n",
      "dtypes: float64(19), int64(2), object(2)\n",
      "memory usage: 25.0+ MB\n"
     ]
    }
   ],
   "source": [
    "rain.info()"
   ]
  },
  {
   "cell_type": "code",
   "execution_count": 299,
   "metadata": {
    "ExecuteTime": {
     "end_time": "2020-12-08T15:27:13.618767Z",
     "start_time": "2020-12-08T15:27:13.603650Z"
    }
   },
   "outputs": [],
   "source": [
    "rain['humidity3pm']=rain['humidity3pm'].fillna(rain['humidity3pm'].mean())"
   ]
  },
  {
   "cell_type": "code",
   "execution_count": 300,
   "metadata": {
    "ExecuteTime": {
     "end_time": "2020-12-08T15:27:13.643959Z",
     "start_time": "2020-12-08T15:27:13.625599Z"
    }
   },
   "outputs": [],
   "source": [
    "X_train2 = rain[['rainfall','humidity3pm','precipitation3pm','precipitation9am']][0:106645]\n"
   ]
  },
  {
   "cell_type": "code",
   "execution_count": 301,
   "metadata": {
    "ExecuteTime": {
     "end_time": "2020-12-08T15:27:13.693495Z",
     "start_time": "2020-12-08T15:27:13.659406Z"
    }
   },
   "outputs": [],
   "source": [
    "from sklearn.preprocessing import StandardScaler\n",
    "scaler = StandardScaler()\n",
    "scaler.fit(X_train2)\n",
    "X_train2 = scaler.transform(X_train2)"
   ]
  },
  {
   "cell_type": "code",
   "execution_count": 302,
   "metadata": {
    "ExecuteTime": {
     "end_time": "2020-12-08T15:27:13.716119Z",
     "start_time": "2020-12-08T15:27:13.707799Z"
    }
   },
   "outputs": [],
   "source": [
    "y_train2=rain['raintomorrow'][0:106645]"
   ]
  },
  {
   "cell_type": "code",
   "execution_count": 303,
   "metadata": {
    "ExecuteTime": {
     "end_time": "2020-12-08T15:27:13.733781Z",
     "start_time": "2020-12-08T15:27:13.720921Z"
    }
   },
   "outputs": [],
   "source": [
    "X_valid2 = rain[['rainfall','humidity3pm','precipitation3pm','precipitation9am']][106645:135085]"
   ]
  },
  {
   "cell_type": "code",
   "execution_count": 304,
   "metadata": {
    "ExecuteTime": {
     "end_time": "2020-12-08T15:27:13.780675Z",
     "start_time": "2020-12-08T15:27:13.746184Z"
    }
   },
   "outputs": [],
   "source": [
    "from sklearn.preprocessing import StandardScaler\n",
    "scaler = StandardScaler()\n",
    "scaler.fit(X_valid2)\n",
    "X_valid2 = scaler.transform(X_valid2)"
   ]
  },
  {
   "cell_type": "code",
   "execution_count": 305,
   "metadata": {
    "ExecuteTime": {
     "end_time": "2020-12-08T15:27:13.794438Z",
     "start_time": "2020-12-08T15:27:13.784466Z"
    }
   },
   "outputs": [],
   "source": [
    "y_valid2=rain['raintomorrow'][106645:135085]"
   ]
  },
  {
   "cell_type": "code",
   "execution_count": 306,
   "metadata": {
    "ExecuteTime": {
     "end_time": "2020-12-08T15:27:13.813250Z",
     "start_time": "2020-12-08T15:27:13.805628Z"
    }
   },
   "outputs": [],
   "source": [
    "model2=LogisticRegression()"
   ]
  },
  {
   "cell_type": "code",
   "execution_count": 307,
   "metadata": {
    "ExecuteTime": {
     "end_time": "2020-12-08T15:27:13.935023Z",
     "start_time": "2020-12-08T15:27:13.820703Z"
    }
   },
   "outputs": [
    {
     "data": {
      "text/plain": [
       "LogisticRegression()"
      ]
     },
     "execution_count": 307,
     "metadata": {},
     "output_type": "execute_result"
    }
   ],
   "source": [
    "model2.fit(X_train2, y_train2)"
   ]
  },
  {
   "cell_type": "code",
   "execution_count": 308,
   "metadata": {
    "ExecuteTime": {
     "end_time": "2020-12-08T15:27:13.986081Z",
     "start_time": "2020-12-08T15:27:13.940114Z"
    }
   },
   "outputs": [
    {
     "data": {
      "text/plain": [
       "LogisticRegression()"
      ]
     },
     "execution_count": 308,
     "metadata": {},
     "output_type": "execute_result"
    }
   ],
   "source": [
    "model2.fit(X_valid2, y_valid2)"
   ]
  },
  {
   "cell_type": "code",
   "execution_count": 309,
   "metadata": {
    "ExecuteTime": {
     "end_time": "2020-12-08T15:27:14.014651Z",
     "start_time": "2020-12-08T15:27:13.989701Z"
    }
   },
   "outputs": [
    {
     "data": {
      "text/plain": [
       "0.8263397252566927"
      ]
     },
     "execution_count": 309,
     "metadata": {},
     "output_type": "execute_result"
    }
   ],
   "source": [
    "model2.score(X_train2, y_train2)"
   ]
  },
  {
   "cell_type": "code",
   "execution_count": 310,
   "metadata": {
    "ExecuteTime": {
     "end_time": "2020-12-08T15:27:14.039431Z",
     "start_time": "2020-12-08T15:27:14.018450Z"
    }
   },
   "outputs": [
    {
     "data": {
      "text/plain": [
       "0.8253164556962025"
      ]
     },
     "execution_count": 310,
     "metadata": {},
     "output_type": "execute_result"
    }
   ],
   "source": [
    "model2.score(X_valid2, y_valid2)"
   ]
  },
  {
   "cell_type": "code",
   "execution_count": 311,
   "metadata": {
    "ExecuteTime": {
     "end_time": "2020-12-08T15:27:14.075057Z",
     "start_time": "2020-12-08T15:27:14.055666Z"
    }
   },
   "outputs": [],
   "source": [
    "from sklearn.metrics import plot_confusion_matrix, confusion_matrix"
   ]
  },
  {
   "cell_type": "code",
   "execution_count": 312,
   "metadata": {
    "ExecuteTime": {
     "end_time": "2020-12-08T15:27:14.347420Z",
     "start_time": "2020-12-08T15:27:14.095921Z"
    }
   },
   "outputs": [
    {
     "data": {
      "text/plain": [
       "array([[69674, 12761],\n",
       "       [13156, 11054]])"
      ]
     },
     "execution_count": 312,
     "metadata": {},
     "output_type": "execute_result"
    }
   ],
   "source": [
    "confusion_matrix(y_train2, model.predict(X_train2))"
   ]
  },
  {
   "cell_type": "markdown",
   "metadata": {},
   "source": [
    "### - Comparação dos três modelos: baseline, baseline apurado, e \"modelo vigente\"\"\n"
   ]
  },
  {
   "cell_type": "markdown",
   "metadata": {},
   "source": [
    "#### - Baseline"
   ]
  },
  {
   "cell_type": "code",
   "execution_count": 317,
   "metadata": {
    "ExecuteTime": {
     "end_time": "2020-12-08T15:31:06.686613Z",
     "start_time": "2020-12-08T15:31:06.120611Z"
    },
    "scrolled": true
   },
   "outputs": [
    {
     "data": {
      "text/plain": [
       "<sklearn.metrics._plot.confusion_matrix.ConfusionMatrixDisplay at 0x1239bf460>"
      ]
     },
     "execution_count": 317,
     "metadata": {},
     "output_type": "execute_result"
    },
    {
     "data": {
      "image/png": "[encoded data removed]",
      "text/plain": [
       "<Figure size 432x288 with 2 Axes>"
      ]
     },
     "metadata": {
      "needs_background": "light"
     },
     "output_type": "display_data"
    }
   ],
   "source": [
    "plot_confusion_matrix(model1, X_train1, y_train1, values_format='.0f')"
   ]
  },
  {
   "cell_type": "code",
   "execution_count": 315,
   "metadata": {
    "ExecuteTime": {
     "end_time": "2020-12-08T15:27:16.612521Z",
     "start_time": "2020-12-08T15:27:15.886544Z"
    }
   },
   "outputs": [
    {
     "data": {
      "text/plain": [
       "<sklearn.metrics._plot.roc_curve.RocCurveDisplay at 0x12395fcd0>"
      ]
     },
     "execution_count": 315,
     "metadata": {},
     "output_type": "execute_result"
    },
    {
     "data": {
      "image/png": "[encoded data removed]",
      "text/plain": [
       "<Figure size 432x288 with 1 Axes>"
      ]
     },
     "metadata": {
      "needs_background": "light"
     },
     "output_type": "display_data"
    }
   ],
   "source": [
    "fig, ax = plt.subplots()\n",
    "\n",
    "plot_roc_curve(model1, X_train1, y_train1, color='red', ax= ax, name='train')\n",
    "plot_roc_curve(model1, X_valid1, y_valid1, color='blue', ax=ax, name='test')"
   ]
  },
  {
   "cell_type": "markdown",
   "metadata": {},
   "source": [
    "#### - Baseline apurado"
   ]
  },
  {
   "cell_type": "code",
   "execution_count": 313,
   "metadata": {
    "ExecuteTime": {
     "end_time": "2020-12-08T15:27:15.204992Z",
     "start_time": "2020-12-08T15:27:14.354344Z"
    }
   },
   "outputs": [
    {
     "data": {
      "text/plain": [
       "<sklearn.metrics._plot.confusion_matrix.ConfusionMatrixDisplay at 0x123880cd0>"
      ]
     },
     "execution_count": 313,
     "metadata": {},
     "output_type": "execute_result"
    },
    {
     "data": {
      "image/png": "[encoded data removed]",
      "text/plain": [
       "<Figure size 432x288 with 2 Axes>"
      ]
     },
     "metadata": {
      "needs_background": "light"
     },
     "output_type": "display_data"
    }
   ],
   "source": [
    "plot_confusion_matrix(model2, X_train2, y_train2, values_format='.0f')"
   ]
  },
  {
   "cell_type": "code",
   "execution_count": 316,
   "metadata": {
    "ExecuteTime": {
     "end_time": "2020-12-08T15:27:17.481395Z",
     "start_time": "2020-12-08T15:27:16.617382Z"
    }
   },
   "outputs": [
    {
     "data": {
      "text/plain": [
       "<sklearn.metrics._plot.roc_curve.RocCurveDisplay at 0x123988700>"
      ]
     },
     "execution_count": 316,
     "metadata": {},
     "output_type": "execute_result"
    },
    {
     "data": {
      "image/png": "[encoded data removed]",
      "text/plain": [
       "<Figure size 432x288 with 1 Axes>"
      ]
     },
     "metadata": {
      "needs_background": "light"
     },
     "output_type": "display_data"
    }
   ],
   "source": [
    "fig, ax = plt.subplots()\n",
    "\n",
    "plot_roc_curve(model2, X_train2, y_train2, color='red', ax= ax, name='train')\n",
    "plot_roc_curve(model2, X_valid2, y_valid2, color='blue', ax=ax, name='test')"
   ]
  },
  {
   "cell_type": "markdown",
   "metadata": {},
   "source": [
    "#### - \"Modelo vigente\"( gabarito enviado junto com o dataset)"
   ]
  },
  {
   "cell_type": "code",
   "execution_count": 318,
   "metadata": {
    "ExecuteTime": {
     "end_time": "2020-12-08T15:33:37.681471Z",
     "start_time": "2020-12-08T15:33:37.118116Z"
    }
   },
   "outputs": [
    {
     "data": {
      "text/plain": [
       "<sklearn.metrics._plot.confusion_matrix.ConfusionMatrixDisplay at 0x123973550>"
      ]
     },
     "execution_count": 318,
     "metadata": {},
     "output_type": "execute_result"
    },
    {
     "data": {
      "image/png": "[encoded data removed]",
      "text/plain": [
       "<Figure size 432x288 with 2 Axes>"
      ]
     },
     "metadata": {
      "needs_background": "light"
     },
     "output_type": "display_data"
    }
   ],
   "source": [
    "plot_confusion_matrix(model, X_train, y_train, values_format='.0f')"
   ]
  },
  {
   "cell_type": "code",
   "execution_count": 314,
   "metadata": {
    "ExecuteTime": {
     "end_time": "2020-12-08T15:27:15.881300Z",
     "start_time": "2020-12-08T15:27:15.223056Z"
    }
   },
   "outputs": [
    {
     "data": {
      "text/plain": [
       "<sklearn.metrics._plot.roc_curve.RocCurveDisplay at 0x12390c160>"
      ]
     },
     "execution_count": 314,
     "metadata": {},
     "output_type": "execute_result"
    },
    {
     "data": {
      "image/png": "[encoded data removed]",
      "text/plain": [
       "<Figure size 432x288 with 1 Axes>"
      ]
     },
     "metadata": {
      "needs_background": "light"
     },
     "output_type": "display_data"
    }
   ],
   "source": [
    "fig, ax = plt.subplots()\n",
    "\n",
    "plot_roc_curve(model, X_train, y_train, color='red', ax= ax, name='train')\n",
    "plot_roc_curve(model, X_valid, y_valid, color='blue', ax=ax, name='test')"
   ]
  },
  {
   "cell_type": "code",
   "execution_count": 320,
   "metadata": {
    "ExecuteTime": {
     "end_time": "2020-12-08T18:18:40.747931Z",
     "start_time": "2020-12-08T18:18:40.719162Z"
    }
   },
   "outputs": [],
   "source": [
    "from sklearn.metrics import confusion_matrix"
   ]
  },
  {
   "cell_type": "code",
   "execution_count": 321,
   "metadata": {
    "ExecuteTime": {
     "end_time": "2020-12-08T18:19:53.703559Z",
     "start_time": "2020-12-08T18:19:52.550613Z"
    }
   },
   "outputs": [
    {
     "data": {
      "text/plain": [
       "array([[108365,   1951],\n",
       "       [  7945,  23932]])"
      ]
     },
     "execution_count": 321,
     "metadata": {},
     "output_type": "execute_result"
    }
   ],
   "source": [
    "confusion_matrix(rain['raintomorrow'],rain['modelo_vigente']>0.5)"
   ]
  },
  {
   "cell_type": "code",
   "execution_count": 323,
   "metadata": {
    "ExecuteTime": {
     "end_time": "2020-12-08T18:21:40.341142Z",
     "start_time": "2020-12-08T18:21:39.947145Z"
    }
   },
   "outputs": [],
   "source": [
    "import seaborn as sns"
   ]
  },
  {
   "cell_type": "code",
   "execution_count": 326,
   "metadata": {
    "ExecuteTime": {
     "end_time": "2020-12-08T18:23:27.977612Z",
     "start_time": "2020-12-08T18:23:26.451111Z"
    }
   },
   "outputs": [
    {
     "data": {
      "text/plain": [
       "<AxesSubplot:>"
      ]
     },
     "execution_count": 326,
     "metadata": {},
     "output_type": "execute_result"
    },
    {
     "data": {
      "image/png": "[encoded data removed]",
      "text/plain": [
       "<Figure size 432x288 with 2 Axes>"
      ]
     },
     "metadata": {
      "needs_background": "light"
     },
     "output_type": "display_data"
    }
   ],
   "source": [
    "sns.heatmap(confusion_matrix(rain['raintomorrow'],rain['modelo_vigente']>0.5),annot=True,fmt=\"d\")"
   ]
  },
  {
   "cell_type": "code",
   "execution_count": 336,
   "metadata": {
    "ExecuteTime": {
     "end_time": "2020-12-08T20:42:21.609608Z",
     "start_time": "2020-12-08T20:42:21.603934Z"
    }
   },
   "outputs": [],
   "source": [
    "from lightgbm import LGBMClassifier"
   ]
  },
  {
   "cell_type": "code",
   "execution_count": 367,
   "metadata": {
    "ExecuteTime": {
     "end_time": "2020-12-08T20:56:55.955790Z",
     "start_time": "2020-12-08T20:56:55.950235Z"
    }
   },
   "outputs": [],
   "source": [
    "lgb = LGBMClassifier(max_depth=4, n_estimators=200, colsample_bytree=.7, n_jobs=-1)"
   ]
  },
  {
   "cell_type": "code",
   "execution_count": 358,
   "metadata": {
    "ExecuteTime": {
     "end_time": "2020-12-08T20:51:25.753221Z",
     "start_time": "2020-12-08T20:51:25.735597Z"
    }
   },
   "outputs": [],
   "source": [
    "X_train3=rain[['mintemp', 'maxtemp', 'rainfall',\n",
    "        'humidity9am', 'humidity3pm', 'pressure9am', 'pressure3pm',\n",
    "       'cloud9am', 'cloud3pm', 'temp9am', 'temp3pm', 'raintoday',\n",
    "         'temp', 'humidity', 'precipitation3pm',\n",
    "       'precipitation9am']]"
   ]
  },
  {
   "cell_type": "code",
   "execution_count": 353,
   "metadata": {
    "ExecuteTime": {
     "end_time": "2020-12-08T20:48:59.228010Z",
     "start_time": "2020-12-08T20:48:59.177514Z"
    }
   },
   "outputs": [],
   "source": [
    "#X_train3 = X_train3.fillna(-9999)"
   ]
  },
  {
   "cell_type": "code",
   "execution_count": 370,
   "metadata": {
    "ExecuteTime": {
     "end_time": "2020-12-09T16:57:23.159919Z",
     "start_time": "2020-12-09T16:57:22.968444Z"
    }
   },
   "outputs": [
    {
     "data": {
      "text/plain": [
       "142193"
      ]
     },
     "execution_count": 370,
     "metadata": {},
     "output_type": "execute_result"
    }
   ],
   "source": [
    "len(X_train3)"
   ]
  },
  {
   "cell_type": "code",
   "execution_count": 350,
   "metadata": {
    "ExecuteTime": {
     "end_time": "2020-12-08T20:46:49.328211Z",
     "start_time": "2020-12-08T20:46:49.321358Z"
    }
   },
   "outputs": [],
   "source": [
    "y_train3=rain['raintomorrow']"
   ]
  },
  {
   "cell_type": "code",
   "execution_count": 372,
   "metadata": {
    "ExecuteTime": {
     "end_time": "2020-12-09T17:01:43.870726Z",
     "start_time": "2020-12-09T17:01:43.858409Z"
    }
   },
   "outputs": [],
   "source": [
    "from sklearn.model_selection import train_test_split"
   ]
  },
  {
   "cell_type": "code",
   "execution_count": 373,
   "metadata": {
    "ExecuteTime": {
     "end_time": "2020-12-09T17:01:56.306052Z",
     "start_time": "2020-12-09T17:01:55.921796Z"
    }
   },
   "outputs": [],
   "source": [
    "X_train4, X_test4, y_train4, y_test4 = train_test_split(X_train3, y_train3, stratify=y_train3)"
   ]
  },
  {
   "cell_type": "code",
   "execution_count": 374,
   "metadata": {
    "ExecuteTime": {
     "end_time": "2020-12-09T17:02:13.660998Z",
     "start_time": "2020-12-09T17:02:13.650508Z"
    }
   },
   "outputs": [
    {
     "data": {
      "text/plain": [
       "106644"
      ]
     },
     "execution_count": 374,
     "metadata": {},
     "output_type": "execute_result"
    }
   ],
   "source": [
    "len(X_train4)"
   ]
  },
  {
   "cell_type": "code",
   "execution_count": 375,
   "metadata": {
    "ExecuteTime": {
     "end_time": "2020-12-09T17:02:29.822454Z",
     "start_time": "2020-12-09T17:02:29.811601Z"
    }
   },
   "outputs": [
    {
     "data": {
      "text/plain": [
       "106644"
      ]
     },
     "execution_count": 375,
     "metadata": {},
     "output_type": "execute_result"
    }
   ],
   "source": [
    "len(y_train4)"
   ]
  },
  {
   "cell_type": "code",
   "execution_count": 341,
   "metadata": {
    "ExecuteTime": {
     "end_time": "2020-12-08T20:42:31.646028Z",
     "start_time": "2020-12-08T20:42:31.640380Z"
    }
   },
   "outputs": [],
   "source": [
    "from sklearn.model_selection import cross_val_score, KFold"
   ]
  },
  {
   "cell_type": "code",
   "execution_count": 376,
   "metadata": {
    "ExecuteTime": {
     "end_time": "2020-12-09T17:03:14.299316Z",
     "start_time": "2020-12-09T17:02:57.910085Z"
    }
   },
   "outputs": [
    {
     "data": {
      "text/plain": [
       "(0.8681084841679064, 0.005076889405307905)"
      ]
     },
     "execution_count": 376,
     "metadata": {},
     "output_type": "execute_result"
    }
   ],
   "source": [
    "results = cross_val_score(lgb, X_train4, y_train4, cv=KFold(10, shuffle=True), scoring='roc_auc')\n",
    "(np.mean(results), np.std(results))"
   ]
  },
  {
   "cell_type": "code",
   "execution_count": 377,
   "metadata": {
    "ExecuteTime": {
     "end_time": "2020-12-09T17:03:21.425118Z",
     "start_time": "2020-12-09T17:03:21.405335Z"
    }
   },
   "outputs": [
    {
     "data": {
      "text/plain": [
       "array([0.86702508, 0.87918116, 0.8665326 , 0.8613513 , 0.86956555,\n",
       "       0.87312283, 0.86807895, 0.86718046, 0.86052386, 0.86852303])"
      ]
     },
     "execution_count": 377,
     "metadata": {},
     "output_type": "execute_result"
    }
   ],
   "source": [
    "results"
   ]
  },
  {
   "cell_type": "code",
   "execution_count": 378,
   "metadata": {
    "ExecuteTime": {
     "end_time": "2020-12-09T17:04:12.873326Z",
     "start_time": "2020-12-09T17:04:07.007712Z"
    }
   },
   "outputs": [
    {
     "data": {
      "text/plain": [
       "(0.8581509225865384, 0.0058188306503128276)"
      ]
     },
     "execution_count": 378,
     "metadata": {},
     "output_type": "execute_result"
    }
   ],
   "source": [
    "results = cross_val_score(lgb, X_test4, y_test4, cv=KFold(10, shuffle=True), scoring='roc_auc')\n",
    "(np.mean(results), np.std(results))"
   ]
  },
  {
   "cell_type": "code",
   "execution_count": null,
   "metadata": {},
   "outputs": [],
   "source": []
  },
  {
   "cell_type": "code",
   "execution_count": null,
   "metadata": {},
   "outputs": [],
   "source": []
  },
  {
   "cell_type": "code",
   "execution_count": null,
   "metadata": {},
   "outputs": [],
   "source": []
  },
  {
   "cell_type": "code",
   "execution_count": null,
   "metadata": {},
   "outputs": [],
   "source": []
  },
  {
   "cell_type": "code",
   "execution_count": null,
   "metadata": {},
   "outputs": [],
   "source": []
  },
  {
   "cell_type": "code",
   "execution_count": null,
   "metadata": {},
   "outputs": [],
   "source": []
  },
  {
   "cell_type": "code",
   "execution_count": null,
   "metadata": {},
   "outputs": [],
   "source": []
  },
  {
   "cell_type": "code",
   "execution_count": null,
   "metadata": {},
   "outputs": [],
   "source": []
  },
  {
   "cell_type": "code",
   "execution_count": null,
   "metadata": {},
   "outputs": [],
   "source": []
  },
  {
   "cell_type": "code",
   "execution_count": null,
   "metadata": {},
   "outputs": [],
   "source": []
  }
 ],
 "metadata": {
  "kernelspec": {
   "display_name": "Python 3",
   "language": "python",
   "name": "python3"
  },
  "language_info": {
   "codemirror_mode": {
    "name": "ipython",
    "version": 3
   },
   "file_extension": ".py",
   "mimetype": "text/x-python",
   "name": "python",
   "nbconvert_exporter": "python",
   "pygments_lexer": "ipython3",
   "version": "3.8.5"
  },
  "toc": {
   "base_numbering": 1,
   "nav_menu": {},
   "number_sections": true,
   "sideBar": true,
   "skip_h1_title": false,
   "title_cell": "Table of Contents",
   "title_sidebar": "Contents",
   "toc_cell": false,
   "toc_position": {},
   "toc_section_display": true,
   "toc_window_display": false
  },
  "varInspector": {
   "cols": {
    "lenName": 16,
    "lenType": 16,
    "lenVar": 40
   },
   "kernels_config": {
    "python": {
     "delete_cmd_postfix": "",
     "delete_cmd_prefix": "del ",
     "library": "var_list.py",
     "varRefreshCmd": "print(var_dic_list())"
    },
    "r": {
     "delete_cmd_postfix": ") ",
     "delete_cmd_prefix": "rm(",
     "library": "var_list.r",
     "varRefreshCmd": "cat(var_dic_list()) "
    }
   },
   "types_to_exclude": [
    "module",
    "function",
    "builtin_function_or_method",
    "instance",
    "_Feature"
   ],
   "window_display": false
  }
 },
 "nbformat": 4,
 "nbformat_minor": 4
}
